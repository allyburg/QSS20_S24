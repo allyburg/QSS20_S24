{
 "cells": [
  {
   "cell_type": "markdown",
   "metadata": {},
   "source": [
    "# Problem set 3: Text analysis of DOJ press releases\n",
    "\n",
    "**Total points (without extra credit)**: 52 \n",
    "\n",
    "- For background:\n",
    "\n",
    "    - DOJ is the federal law enforcement agency responsible for federal prosecutions; this contrasts with the local prosecutions in the Cook County dataset we analyzed earlier. Here's a short explainer on which crimes get prosecuted federally versus locally: https://www.criminaldefenselawyer.com/resources/criminal-defense/federal-crime/state-vs-federal-crimes.htm#:~:text=Federal%20criminal%20prosecutions%20are%20handled,of%20state%20and%20local%20law. \n",
    "    - Here's the Kaggle that contains the data: https://www.kaggle.com/jbencina/department-of-justice-20092018-press-releases \n",
    "    - Here's the code the dataset creator used to scrape those press releases here if you're interested: https://github.com/jbencina/dojreleases"
   ]
  },
  {
   "cell_type": "markdown",
   "metadata": {},
   "source": [
    "## 0.0 Import packages"
   ]
  },
  {
   "cell_type": "code",
   "execution_count": 1,
   "metadata": {},
   "outputs": [],
   "source": [
    "## helpful packages\n",
    "import warnings\n",
    "warnings.filterwarnings(\"ignore\")\n",
    "\n",
    "import pandas as pd\n",
    "import numpy as np\n",
    "import random\n",
    "import re\n",
    "import string\n",
    "\n",
    "## nltk imports\n",
    "import nltk\n",
    "### uncomment and run these lines if you haven't downloaded relevant nltk add-ons yet\n",
    "### nltk.download('averaged_perceptron_tagger')\n",
    "### nltk.download('stopwords')\n",
    "from nltk import pos_tag\n",
    "from nltk.tokenize import word_tokenize, wordpunct_tokenize\n",
    "from nltk.stem.snowball import SnowballStemmer\n",
    "from nltk.corpus import stopwords\n",
    "\n",
    "## spacy imports\n",
    "import spacy\n",
    "### uncomment and run the below line if you haven't loaded the en_core_web_sm library yet\n",
    "### ! python -m spacy download en_core_web_sm\n",
    "import en_core_web_sm\n",
    "nlp = en_core_web_sm.load()\n",
    "\n",
    "## vectorizer\n",
    "from sklearn.feature_extraction.text import CountVectorizer\n",
    "\n",
    "## sentiment\n",
    "from vaderSentiment.vaderSentiment import SentimentIntensityAnalyzer\n",
    "\n",
    "## lda\n",
    "from gensim import corpora\n",
    "import gensim\n",
    "\n",
    "## repeated printouts and wide-format text\n",
    "from IPython.core.interactiveshell import InteractiveShell\n",
    "InteractiveShell.ast_node_interactivity = \"all\"\n",
    "pd.set_option('display.max_colwidth', None)\n",
    "\n"
   ]
  },
  {
   "cell_type": "markdown",
   "metadata": {},
   "source": [
    "## 0.1 Load and clean text data"
   ]
  },
  {
   "cell_type": "code",
   "execution_count": 2,
   "metadata": {},
   "outputs": [
    {
     "data": {
      "text/html": [
       "<div>\n",
       "<style scoped>\n",
       "    .dataframe tbody tr th:only-of-type {\n",
       "        vertical-align: middle;\n",
       "    }\n",
       "\n",
       "    .dataframe tbody tr th {\n",
       "        vertical-align: top;\n",
       "    }\n",
       "\n",
       "    .dataframe thead th {\n",
       "        text-align: right;\n",
       "    }\n",
       "</style>\n",
       "<table border=\"1\" class=\"dataframe\">\n",
       "  <thead>\n",
       "    <tr style=\"text-align: right;\">\n",
       "      <th></th>\n",
       "      <th>id</th>\n",
       "      <th>title</th>\n",
       "      <th>contents</th>\n",
       "      <th>date</th>\n",
       "      <th>topics_clean</th>\n",
       "      <th>components_clean</th>\n",
       "    </tr>\n",
       "  </thead>\n",
       "  <tbody>\n",
       "    <tr>\n",
       "      <th>0</th>\n",
       "      <td>None</td>\n",
       "      <td>Convicted Bomb Plotter Sentenced to 30 Years</td>\n",
       "      <td>PORTLAND, Oregon. – Mohamed Osman Mohamud, 23, who was convicted in 2013 of attempting to use a weapon of mass destruction (explosives) in connection with a plot to detonate a vehicle bomb at an annual Christmas tree lighting ceremony in Portland, was sentenced today to serve 30 years in prison, followed by a lifetime term of supervised release. Mohamud, a naturalized U.S. citizen from Somalia and former resident of Corvallis, Oregon, was arrested on Nov. 26, 2010, after he attempted to detonate what he believed to be an explosives-laden van that was parked near the tree lighting ceremony in Portland.  The arrest was the culmination of a long-term undercover operation, during which Mohamud was monitored closely for months as his bomb plot developed.  The device was in fact inert, and the public was never in danger from the device. At sentencing, United States District Court Judge Garr M. King, who presided over Mohamed’s 14-day trial, said “the intended crime was horrific,” and that the defendant, even though he was presented with options by undercover FBI employees, “never once expressed a change of heart.”  King further noted that the Christmas tree ceremony was attended by up to 10,000 people, and that the defendant “wanted everyone to leave either dead or injured.”  King said his sentence was necessary in view of the seriousness of the crime and to serve as deterrence to others who might consider similar acts.     “With today’s sentencing, Mohamed Osman Mohamud is being held accountable for his attempted use of what he believed to be a massive bomb to attack innocent civilians attending a public Christmas tree lighting ceremony in Portland,” said John P. Carlin, Assistant Attorney General for National Security.  “The evidence clearly indicated that Mohamud was intent on killing as many people as possible with his attack.  Fortunately, law enforcement was able to identify him as a threat, insert themselves in the place of a terrorist that Mohamud was trying to contact, and thwart Mohamud’s efforts to conduct an attack on our soil.  This case highlights how the use of undercover operations against would-be terrorists allows us to engage and disrupt those who wish to commit horrific acts of violence against the innocent public.  The many agents, analysts, and prosecutors who have worked on this case deserve great credit for their roles in protecting Portland from the threat posed by this defendant and ensuring that he was brought to justice.” “This trial provided a rare glimpse into the techniques Al Qaeda employs to radicalize home-grown extremists,” said Amanda Marshall, U.S. Attorney for the District of Oregon.  “With the sentencing today, the court has held this defendant accountable.   I thank the dedicated professionals in the law enforcement and intelligence communities who were responsible for this successful outcome.  I look forward to our continued work with Muslim communities in Oregon who are committed to ensuring that all young people are safe from extremists who seek to radicalize others to engage in violence.”  According to the trial evidence, in February 2009, Mohamud began communicating via e-mail with Samir Khan, a now-deceased al Qaeda terrorist who published Jihad Recollections, an online magazine that advocated violent jihad, and who also published Inspire, the official magazine of al-Qaeda in the Arabian Peninsula.  Between February and August 2009, Mohamed exchanged approximately 150 emails with Khan.  Mohamud wrote several articles for Jihad Recollections that were published under assumed names. In August 2009, Mohamud was in email contact with Amro Al-Ali, a Saudi national who was in Yemen at the time and is today in custody in Saudi Arabia for terrorism offenses.  Al-Ali sent Mohamud detailed e-mails designed to facilitate Mohamud’s travel to Yemen to train for violent jihad.  In December 2009, while Al-Ali was in the northwest frontier province of Pakistan, Mohamud and Al-Ali discussed the possibility of Mohamud traveling to Pakistan to join Al-Ali in terrorist activities. Mohamud responded to Al-Ali in an e-mail: “yes, that would be wonderful, just tell me what I need to do.”  Al-Ali referred Mohamud to a second associate overseas and provided Mohamud with a name and email address to facilitate the process. In the following months, Mohamud made several unsuccessful attempts to contact Al-Ali’s associate.  Ultimately, an FBI undercover operative contacted Mohamud via email under the guise of being an associate of Al-Ali’s.  Mohamud and the FBI undercover operative agreed to meet in Portland in July 2010.  At the meeting, Mohamud told the FBI undercover operative he had written articles that were published in Jihad Recollections.  Mohamud also said that he wanted to become “operational.”  Asked what he meant by “operational,” Mohamud said he wanted to put an explosion together, but needed help. According to evidence presented at trial, at a meeting in August 2010, Mohamud told undercover FBI operatives he had been thinking of committing violent jihad since the age of 15.  Mohamud then told the undercover FBI operatives that he had identified a potential target for a bomb: the annual Christmas tree lighting ceremony in Portland’s Pioneer Courthouse Square on Nov. 26, 2010.  The undercover FBI operatives cautioned Mohamud several times about the seriousness of this plan, noting there would be many people at the event, including children, and emphasized that Mohamud could abandon his attack plans at any time with no shame.  Mohamud indicated the deaths would be justified and that he would not mind carrying out a suicide attack on the crowd. According to evidence presented at trial, in the ensuing months Mohamud continued to express his interest in carrying out the attack and worked on logistics.  On Nov. 4, 2010, Mohamud and the undercover FBI operatives traveled to a remote location in Lincoln County, Oregon, where they detonated a bomb concealed in a backpack as a trial run for the upcoming attack.  During the drive back to Corvallis, Mohamud was asked if was capable looking at all the bodies of those who would be killed during the explosion.  In response, Mohamud noted, “I want whoever is attending that event to be, to leave either dead or injured.”  Mohamud later recorded a video of himself, with the assistance of the undercover FBI operatives, in which he read a statement that offered his rationale for his bomb attack.  On Nov. 18, 2010, undercover FBI operatives picked up Mohamud to travel to Portland to finalize the details of the attack.  On Nov. 26, 2010, just hours before the planned attack, Mohamud examined the 1,800 pound bomb in the van and remarked that it was “beautiful.”  Later that day, Mohamud was arrested after he attempted to remotely detonate the inert vehicle bomb rked near the Christmas tree lighting ceremony This case was investigated by the FBI, with assistance from the Oregon State Police, the Corvallis Police Department, the Lincoln County Sheriff’s Office and the Portland Police Bureau.  The prosecution was handled by Assistant U.S. Attorneys Ethan D. Knight and Pamala Holsinger from the U.S. Attorney’s Office for the District of Oregon.  Trial Attorney Jolie F. Zimmerman, from the Counterterrorism Section of the Justice Department’s National Security Division, assisted. # # # 14-1077</td>\n",
       "      <td>2014-10-01T00:00:00-04:00</td>\n",
       "      <td>No topic</td>\n",
       "      <td>National Security Division (NSD)</td>\n",
       "    </tr>\n",
       "    <tr>\n",
       "      <th>1</th>\n",
       "      <td>12-919</td>\n",
       "      <td>$1 Million in Restitution Payments Announced to Preserve North Carolina Wetlands</td>\n",
       "      <td>WASHINGTON – North Carolina’s Waccamaw River watershed will benefit from a $1 million restitution order from a federal court, funding environmental projects to acquire and preserve wetlands in an area damaged by illegal releases of wastewater from a corporate hog farm, announced Ignacia S. Moreno, Assistant Attorney General of the Justice Department’s Environment and Natural Resources Division; U.S. Attorney for the Eastern District of North Carolina Thomas G. Walker; Director Greg McLeod from the North Carolina State Bureau of Investigation; and Camilla M. Herlevich, Executive Director of the North Carolina Coastal Land Trust.   Freedman Farms Inc. was sentenced in February 2012 to five years of probation and ordered to pay $1.5 million in fines, restitution and community service payments for violating the Clean Water Act when it discharged hog waste into a stream that leads to the Waccamaw River.  William B. Freedman, president of Freedman Farms, was sentenced to six months in prison to be followed by six months of home confinement.  Freedman Farms also is required to implement a comprehensive environmental compliance program and institute an annual training program.   In an order issued on April 19, 2012, the court ordered that the defendants would be responsible for restitution of $1 million in the form of five annual payments starting in January 2013, which the court will direct to the North Carolina Coastal Land Trust (NCCLT).  The NCCLT plans to use the money to acquire and conserve land along streams in the Waccamaw watershed.  The court also directed a $75,000 community service payment to the Southern Environmental Enforcement Network, an organization dedicated to environmental law enforcement training and information sharing in the region.    “The resolution of the case against Freedman Farms demonstrates the commitment of the Department of Justice to enforcing the Clean Water Act to ensure the protection of human health and the environment,” said Assistant Attorney General Moreno.  “The court-ordered restitution in this case will conserve wetlands for the benefit of the people of North Carolina.  By enforcing the nation’s environmental laws, we will continue to ensure that concentrated animal feeding operations (CAFOs) operate without threatening our drinking water, the health of our communities and the environment.”   “This office is committed to doing our part to hold accountable those who commit crimes against our environment, which can cause serious health problems to residents and damage the environment that makes North Carolina such a beautiful place to live and visit,” said U.S. Attorney Walker.   “This case shows what we can accomplish when our SBI agents work closely with their local, state and federal partners to investigate environmental crimes and hold the polluters accountable,” said Director McLeod.  “We’ll continue our efforts to fight illegal pollution that damages our water and puts the public’s health at risk.”    “The Waccamaw is unique and wild,” said Director Herlevich of the North Carolina Coastal Land Trust. “Its watershed includes some of the most extensive cypress gum swamps in the state, and its headwaters at Lake Waccamaw contain fish that are found nowhere else on Earth.  We appreciate the trust of the court and the U. S. Attorney, and we look forward to using these funds for conservation projects in a river system that is one of our top conservation priorities.”   According to evidence presented in court, in December 2007 Freedman Farms discharged hog waste into Browder’s Branch, a tributary to the Waccamaw River that flows through the White Marsh, a large wetlands complex.  Freedman Farms, located in Columbus County, N.C., is in the business of raising hogs for market, and this particular farm had some 4,800 hogs.  The hog waste was supposed to be directed to two lagoons for treatment and disposal.  Instead, hog waste was discharged from Freedman Farms directly into Browder’s Branch.    The Clean Water Act is a federal law that makes it illegal to knowingly or negligently discharge a pollutant into a water of the United States.    The Freedman case was investigated by the U.S. Environmental Protection Agency (EPA) Criminal Investigation Division, the U.S. Army Corps of Engineers and the North Carolina State Bureau of Investigation, with assistance from the EPA Science and Ecosystem Support Division.  The case was prosecuted by Assistant U.S. Attorney J. Gaston B. Williams of the Eastern District of North Carolina and Trial Attorney Mary Dee Carraway of the Environmental Crimes Section of the Justice Department’s Environment and Natural Resources Division.   The North Carolina Coastal Land Trust is celebrating its 20th anniversary of saving special lands in eastern North Carolina. The organization has protected nearly 50,000 acres of lands with scenic, recreational, historic and ecological values. North Carolina Coastal Land Trust has saved streams and wetlands that provide clean water, forests that are havens for wildlife, working farms that provide local food and nature parks that everyone can enjoy.  More information about the Coastal Land Trust is available at www.coastallandtrust.org.</td>\n",
       "      <td>2012-07-25T00:00:00-04:00</td>\n",
       "      <td>No topic</td>\n",
       "      <td>Environment and Natural Resources Division</td>\n",
       "    </tr>\n",
       "    <tr>\n",
       "      <th>2</th>\n",
       "      <td>11-1002</td>\n",
       "      <td>$1 Million Settlement Reached for Natural Resource Damages at Superfund Site in Massachusetts</td>\n",
       "      <td>BOSTON– A $1-million settlement has been reached for natural resource damages (NRD) at the Blackburn &amp; Union Privileges Superfund Site in Walpole, Mass., the Departments of Justice and Interior (DOI), and the Office of the Massachusetts Attorney General announced today.                The Blackburn &amp; Union Privileges Superfund Site includes 22 acres of contaminated land and water in Walpole. The contamination resulted from the operations of various industrial facilities dating back to the 19th century that exposed the site to asbestos, arsenic, lead and other hazardous substances.                The private parties involved in the settlement include two former owners and operators of the site, W.R. Grace &amp; Co.– Conn. and Tyco Healthcare Group LP, as well as the current owners, BIM Investment Corp. and Shaffer Realty Nominee Trust.               From about 1915 to 1936, a predecessor of W.R. Grace manufactured asbestos brake linings and clutch linings on a large portion of the property. From 1946 to about 1983, a predecessor of Tyco Healthcare operated a cotton fabric manufacturing business, which used caustic solutions, on a portion of the property.               In a 2010 settlement with U.S. Environmental Protection Agency (EPA), the four private parties agreed to perform a remedial action to clean up the site at an estimated cost of $13 million. The consent decree lodged today resolves both state and federal NRD liability claims; it requires the parties to pay $1,094,169.56 to the state and federal natural resource trustees, the Massachusetts Executive Office of Energy and Environmental Affairs (EEA) and DOI, for injuries to ecological resources including groundwater and wetlands, which provide habitat for waterfowl and wading birds, including black ducks and great blue herons.  The trustees will use the settlement funds for natural resource restoration projects in the area.               “This settlement demonstrates our commitment to recovering damages from the parties responsible for injury to natural resources, in partnership with state trustees,” said Bruce Gelber, Acting Deputy Assistant Attorney General of the Justice Department’s Environment and Natural Resources Division.               “The citizens of Walpole have had to live with the environmental impact of this contamination for many years,” Attorney General Martha Coakley said. “We are pleased that today’s agreement will not only require the responsible parties to reimburse taxpayer dollars, but will also provide funding to begin restoring or replacing the wetland and other natural resources.”                 The consent decree was lodged in the U.S. District Court for Massachusetts.     A portion of the funds, $300,000, will be distributed to the EEA-sponsored groundwater restoration projects; $575,000 will be used for ecological restoration projects jointly sponsored by EEA and the U.S. Fish and Wildlife Service (FWS).               In addition, $125,000 will go for projects jointly sponsored by EEA and FWS that achieve both ecological and groundwater restoration; $57,491.34 will be allocated for reimbursement for the FWS’s assessment costs; and $36,678.22 will be distributed as reimbursement for the commonwealth’s assessment costs.       “This settlement provides the means for a range of projects designed to compensate the public for decades of groundwater and other ecological damage at this site.  I encourage local citizens and organizations to become engaged in the public process that will take place as we solicit, take comment on, and choose these projects in the months ahead,” said Energy and Environmental Affairs Secretary Richard K. Sullivan Jr., who serves as the Commonwealth’s Natural Resources Damages trustee.       “This settlement will help restore habitat for fish and wildlife in the Neponset River watershed,” said Tom Chapman of the FWS New England Field Office. “We look forward to working with the commonwealth and local stakeholders to implement restoration.”               “More than 100 years-worth of industrial activities at this site caused major environmental contamination to the Neponset River, nearby wetlands and to groundwater below the site,” said Commissioner Kenneth Kimmell of the Massachusetts Department of Environmental Protection (MassDEP), which will staff the Trustee Council for the Commonwealth. “We will ensure that the community and the public will be active participants in the process to use these NRD funds to restore the injured natural resources.”                Under the federal Comprehensive Environmental Response, Compensation and Liability Act, EEA and DOI, acting through the FWS, are the designated state and federal natural resource Trustees for the site. The site has been listed on the EPA’s National Priorities List since 1994.        The consent decree is subject to a public comment period and court approval. A copy of the consent decree and instructions about how to submit comments is available on www.usdoj.gov/enrd/Consent_Decrees.html  .               After the consent decree is approved, EEA and FWS will develop proposed restoration plans to use the settlement funds for restoration projects. The proposed restoration plans will also be made available to the public for review and comment.                Assistant Attorney General Matthew Brock of Massachusetts Attorney General Coakley's Environmental Protection Division handled this matter.  Attorney Jennifer Davis of MassDEP, Attorney Anna Blumkin of EEA and MassDEP’s NRD Coordinator Karen Pelto also worked on this settlement.</td>\n",
       "      <td>2011-08-03T00:00:00-04:00</td>\n",
       "      <td>No topic</td>\n",
       "      <td>Environment and Natural Resources Division</td>\n",
       "    </tr>\n",
       "    <tr>\n",
       "      <th>3</th>\n",
       "      <td>10-015</td>\n",
       "      <td>10 Las Vegas Men Indicted \\r\\nfor Falsifying Vehicle Emissions Tests</td>\n",
       "      <td>WASHINGTON—A federal grand jury in Las Vegas today returned indictments against 10 Nevada-certified emissions testers for falsifying vehicle emissions test reports, the Justice Department announced.   Each defendant faces one felony Clean Air Act count for falsifying reports between November 2007 and May 2009. The number of falsifications varied by defendant, with some defendants having falsified approximately 250 records, while others falsified more than double that figure. One defendant is alleged to have falsified over 700 reports.   The individuals indicted include:     Escudero resides in Pahrump, Nev. All other individuals are from Clark County, Nev.    The 10 defendants are alleged to have engaged in a practice known as \"clean scanning\" vehicles. The scheme involved entering the Vehicle Identification Number (VIN) for a vehicle that would not pass the emissions test into the computerized system, then connecting a different vehicle the testers knew would pass the test. These falsifications were allegedly performed for anywhere from $10 to $100 over and above the usual emissions testing fee.    The U.S. Environmental Protection Agency (EPA), under the Clean Air Act, requires the state of Nevada to conduct vehicle emissions testing in certain areas because the areas exceed national standards for carbon monoxide and ozone. Las Vegas is currently required to perform emissions testing.    To obtain a registration renewal, vehicle owners bring the vehicles to a licensed inspection station for testing. The emissions inspector logs into a computer to activate the system by using a unique password issued to the emissions inspector. The emissions inspector manually inputs the vehicle’s VIN to identify the tested vehicle, then connects the vehicle for model year 1996 and later to an onboard diagnostics port connected to an analyzer. The analyzer downloads data from the vehicle’s computer, analyzes the data and provides a \"pass\" or \"fail\" result. The pass or fail result and vehicle identification data are reported on the Vehicle Inspection Report. It is a crime to knowingly alter or conceal any record or other document required to be maintained by the Clean Air Act.     \"Falsifications of vehicle emissions testing, such as those alleged in the indictments unsealed today, are serious matters and we intend to use all of our enforcement tools to stop this harmful practice. These actions undermine a system that is designed to reduce air pollutants including smog and provide better air quality for the citizens of Nevada,\" said Ignacia S. Moreno, Assistant Attorney General for the Justice Department’s Environment and Natural Resources Division.    \"The residents of Nevada deserve to know that the vast majority of licensed vehicle emission inspectors are not corrupt and are not circumventing emission testing procedures,\" said U.S. Attorney Bogden. \"These indictments should serve as a clear warning to offenders that the Department of Justice will prosecute you if you make fraudulent statements and reports concerning compliance with the federal Clean Air Act.\"    \"Lying about car emissions means dirtier air, which is especially of concern in areas like Las Vegas that are already experiencing air quality problems,\" said Cynthia Giles, Assistant Administrator for Enforcement and Compliance Assurance at EPA. \"We will take aggressive action to ensure communities have clean air.\"    The maximum penalty for the felony violations contained in the indictments includes up to two years in prison and a fine of up to $250,000.    An indictment is merely an accusation, and a defendant is presumed innocent unless and until proven guilty in a court of law.    The case was investigated by the EPA, Criminal Investigation Division; and the Nevada Department of Motor Vehicles Compliance Enforcement Division. The case is being prosecuted by the U.S. Attorney’s Office for the District of Nevada and the Justice Department’s Environmental Crimes Section.</td>\n",
       "      <td>2010-01-08T00:00:00-05:00</td>\n",
       "      <td>No topic</td>\n",
       "      <td>Environment and Natural Resources Division</td>\n",
       "    </tr>\n",
       "    <tr>\n",
       "      <th>4</th>\n",
       "      <td>18-898</td>\n",
       "      <td>$100 Million Settlement Will Speed Cleanup Work at Centredale Manor Superfund Site in North Providence, R.I.</td>\n",
       "      <td>The U.S. Department of Justice, the U.S. Environmental Protection Agency (EPA), and the Rhode Island Department of Environmental Management (RIDEM) announced today that two subsidiaries of Stanley Black &amp; Decker Inc.—Emhart Industries Inc. and Black &amp; Decker Inc.—have agreed to clean up dioxin contaminated sediment and soil at the Centredale Manor Restoration Project Superfund Site in North Providence and Johnston, Rhode Island.  “We are pleased to reach a resolution through collaborative work with the responsible parties, EPA, and other stakeholders,” said Acting Assistant Attorney General Jeffrey H. Wood for the Justice Department's Environment and Natural Resources Division . “Today’s settlement ends protracted litigation and allows for important work to get underway to restore a healthy environment for citizens living in and around the Centredale Manor Site and the Woonasquatucket River.” “This settlement demonstrates the tremendous progress we are achieving working with responsible parties, states, and our federal partners to expedite sites through the entire Superfund remediation process,” said EPA Acting Administrator Andrew Wheeler. “The Centredale Manor Site has been on the National Priorities List for 18 years; we are taking charge and ensuring the Agency makes good on its promise to clean it up for the betterment of the environment and those communities affected.” “Successfully concluding this settlement paves the way for EPA to make good on our commitment to aggressively pursue cleaning up the Centredale Manor Superfund Site,” said EPA New England Regional Administrator Alexandra Dunn. “We are excited to get to work on the cleanup at this site, and get it closer to the goal of being fully utilized by the North Providence and Johnston communities.” “We are pleased that the collective efforts of the State of Rhode Island, EPA, and DOJ in these negotiations have concluded in this major milestone toward the cleanup of the Centredale Manor Restoration Superfund site and are consistent with our long-standing efforts to make the polluter pay,” said RIDEM Director Janet Coit. “The settlement will speed up a remedy that protects public health and the river environment, and moves us closer to the day that we can reclaim recreational uses of this beautiful river resource.” The settlement, which includes cleanup work in the Woonasquatucket River (River) and bordering residential and commercial properties along the River, requires the companies to perform the remedy selected by EPA for the Site in 2012, which is estimated to cost approximately $100 million, and resolves longstanding litigation. The cleanup remedy includes excavation of contaminated sediment and floodplain soil from the Woonasquatucket River, including from adjacent residential properties. Once the cleanup remedy is completed, full access to the Woonasquatucket River should be restored for local citizens. The cleanup will be a step toward the State’s goal of a fishable and swimmable river. The work will also include upgrading caps over contaminated soil in the peninsula area of the Site that currently house two high-rise apartment buildings. The settlement also ensures that the long-term monitoring and maintenance of the site, as directed in the remedy, will be implemented to ensure that public health is protected.  Under the settlement, Emhart and Black &amp; Decker will reimburse EPA for approximately $42 million in past costs incurred at the Site. The companies will also reimburse EPA and the State of Rhode Island for future costs incurred by those agencies in overseeing the work required by the settlement. The settlement will also include payments on behalf of two federal agencies to resolve claims against those agencies. These payments, along with prior settlements related to the Site, will result in a 100 percent recovery for the United States of its past and future response costs related to the Site. Litigation related to the Site has been ongoing for nearly eight years. While the Federal District Court found Black &amp; Decker and Emhart to be liable for their hazardous waste and responsible to conduct the cleanup of the Site, it had also ruled that EPA needed to reconsider certain aspects of that cleanup. EPA appealed the decision requiring it to reconsider aspects of the cleanup. This settlement, once entered by the District Court, will resolve the litigation between the United States, Rhode Island, and Emhart and Black and Decker, allowing the cleanup of the Site to begin. The Site spans a one and a half mile stretch of the Woonasquatucket River and encompasses a nine-acre peninsula, two ponds and a significant forested wetland. From the 1940s to the early 1970s, Emhart’s predecessor operated a chemical manufacturing facility on the peninsula and used a raw material that was contaminated with 2,3,7,8-tetrachlorodibenzo-p-dioxin, a toxic form of dioxin. The Site property was also previously used by a barrel refurbisher. Elevated levels of dioxins and other contaminants have been detected in soil, groundwater, sediment, surface water and fish.  The Site was added to the National Priorities List (NPL) in 2000, and in December 2017, EPA included the Centredale Manor Restoration Project Superfund Site on a list of Superfund sites targeted for immediate and intense attention. Several short-term actions were previously performed at the Site to address immediate threats to the residents and minimize potential erosion and downstream transport of contaminated soil and sediment. This settlement is the latest agreement EPA has reached since the Site was listed on the NPL. Prior agreements addressed the performance and recovery of costs for the past environmental investigations and interim cleanup actions from Emhart, the barrel reconditioning company, the current owners of the peninsula portion of the Site, and other potentially responsible parties. The Consent Decree, lodged in the U.S. District Court of Rhode Island, will be posted in the Federal Register and available for public comment for a period of 30 days. The Consent Decree can be viewed on the Justice Department website: www.justice.gov/enrd/Consent_Decrees.html.  EPA information on the Centredale Manor Superfund Site: www.epa.gov/superfund/centredale.</td>\n",
       "      <td>2018-07-09T00:00:00-04:00</td>\n",
       "      <td>Environment</td>\n",
       "      <td>Environment and Natural Resources Division</td>\n",
       "    </tr>\n",
       "  </tbody>\n",
       "</table>\n",
       "</div>"
      ],
      "text/plain": [
       "        id  \\\n",
       "0     None   \n",
       "1  12-919    \n",
       "2  11-1002   \n",
       "3   10-015   \n",
       "4   18-898   \n",
       "\n",
       "                                                                                                          title  \\\n",
       "0                                                                  Convicted Bomb Plotter Sentenced to 30 Years   \n",
       "1                              $1 Million in Restitution Payments Announced to Preserve North Carolina Wetlands   \n",
       "2                 $1 Million Settlement Reached for Natural Resource Damages at Superfund Site in Massachusetts   \n",
       "3                                          10 Las Vegas Men Indicted \\r\\nfor Falsifying Vehicle Emissions Tests   \n",
       "4  $100 Million Settlement Will Speed Cleanup Work at Centredale Manor Superfund Site in North Providence, R.I.   \n",
       "\n",
       "                                                                                                                                                                                                                                                                                                                                                                                                                                                                                                                                                                                                                                                                                                                                                                                                                                                                                                                                                                                                                                                                                                                                                                                                                                                                                                                                                                                                                                                                                                                                                                                                                                                                                                                                                                                                                                                                                                                                                                                                                                                                                                                                                                                                                                                                                                                                                                                                                                                                                                                                                                                                                                                                                                                                                                                                                                                                                                                                                                                                                                                                                                                                                                                                                                                                                                                                                                                                                                                                                                                                                                                                                                                                                                                                                                                                                                                                                                                                                                                                                                                                                                                                                                                                                                                                                                                                                                                                                                                                                                                                                                                                                                                                                                                                                                                                                                                                                                                                                                                                                                                                                                                                                                                                                                                                                                                                                                                                                                                                                                                                                                                                                                                                                                                                                                                                                                                                                                                                                                                                                                                                                                                                                                                                                                                                                                                                                                                                                                                                                                                                                                                                                                                                                                                                                                                                                                                                                                                                                                                                                                                                                                                                                                                                                                                                                                                                                                                                                                                                                                                                                                                                                                                                          contents  \\\n",
       "0  PORTLAND, Oregon. – Mohamed Osman Mohamud, 23, who was convicted in 2013 of attempting to use a weapon of mass destruction (explosives) in connection with a plot to detonate a vehicle bomb at an annual Christmas tree lighting ceremony in Portland, was sentenced today to serve 30 years in prison, followed by a lifetime term of supervised release. Mohamud, a naturalized U.S. citizen from Somalia and former resident of Corvallis, Oregon, was arrested on Nov. 26, 2010, after he attempted to detonate what he believed to be an explosives-laden van that was parked near the tree lighting ceremony in Portland.  The arrest was the culmination of a long-term undercover operation, during which Mohamud was monitored closely for months as his bomb plot developed.  The device was in fact inert, and the public was never in danger from the device. At sentencing, United States District Court Judge Garr M. King, who presided over Mohamed’s 14-day trial, said “the intended crime was horrific,” and that the defendant, even though he was presented with options by undercover FBI employees, “never once expressed a change of heart.”  King further noted that the Christmas tree ceremony was attended by up to 10,000 people, and that the defendant “wanted everyone to leave either dead or injured.”  King said his sentence was necessary in view of the seriousness of the crime and to serve as deterrence to others who might consider similar acts.     “With today’s sentencing, Mohamed Osman Mohamud is being held accountable for his attempted use of what he believed to be a massive bomb to attack innocent civilians attending a public Christmas tree lighting ceremony in Portland,” said John P. Carlin, Assistant Attorney General for National Security.  “The evidence clearly indicated that Mohamud was intent on killing as many people as possible with his attack.  Fortunately, law enforcement was able to identify him as a threat, insert themselves in the place of a terrorist that Mohamud was trying to contact, and thwart Mohamud’s efforts to conduct an attack on our soil.  This case highlights how the use of undercover operations against would-be terrorists allows us to engage and disrupt those who wish to commit horrific acts of violence against the innocent public.  The many agents, analysts, and prosecutors who have worked on this case deserve great credit for their roles in protecting Portland from the threat posed by this defendant and ensuring that he was brought to justice.” “This trial provided a rare glimpse into the techniques Al Qaeda employs to radicalize home-grown extremists,” said Amanda Marshall, U.S. Attorney for the District of Oregon.  “With the sentencing today, the court has held this defendant accountable.   I thank the dedicated professionals in the law enforcement and intelligence communities who were responsible for this successful outcome.  I look forward to our continued work with Muslim communities in Oregon who are committed to ensuring that all young people are safe from extremists who seek to radicalize others to engage in violence.”  According to the trial evidence, in February 2009, Mohamud began communicating via e-mail with Samir Khan, a now-deceased al Qaeda terrorist who published Jihad Recollections, an online magazine that advocated violent jihad, and who also published Inspire, the official magazine of al-Qaeda in the Arabian Peninsula.  Between February and August 2009, Mohamed exchanged approximately 150 emails with Khan.  Mohamud wrote several articles for Jihad Recollections that were published under assumed names. In August 2009, Mohamud was in email contact with Amro Al-Ali, a Saudi national who was in Yemen at the time and is today in custody in Saudi Arabia for terrorism offenses.  Al-Ali sent Mohamud detailed e-mails designed to facilitate Mohamud’s travel to Yemen to train for violent jihad.  In December 2009, while Al-Ali was in the northwest frontier province of Pakistan, Mohamud and Al-Ali discussed the possibility of Mohamud traveling to Pakistan to join Al-Ali in terrorist activities. Mohamud responded to Al-Ali in an e-mail: “yes, that would be wonderful, just tell me what I need to do.”  Al-Ali referred Mohamud to a second associate overseas and provided Mohamud with a name and email address to facilitate the process. In the following months, Mohamud made several unsuccessful attempts to contact Al-Ali’s associate.  Ultimately, an FBI undercover operative contacted Mohamud via email under the guise of being an associate of Al-Ali’s.  Mohamud and the FBI undercover operative agreed to meet in Portland in July 2010.  At the meeting, Mohamud told the FBI undercover operative he had written articles that were published in Jihad Recollections.  Mohamud also said that he wanted to become “operational.”  Asked what he meant by “operational,” Mohamud said he wanted to put an explosion together, but needed help. According to evidence presented at trial, at a meeting in August 2010, Mohamud told undercover FBI operatives he had been thinking of committing violent jihad since the age of 15.  Mohamud then told the undercover FBI operatives that he had identified a potential target for a bomb: the annual Christmas tree lighting ceremony in Portland’s Pioneer Courthouse Square on Nov. 26, 2010.  The undercover FBI operatives cautioned Mohamud several times about the seriousness of this plan, noting there would be many people at the event, including children, and emphasized that Mohamud could abandon his attack plans at any time with no shame.  Mohamud indicated the deaths would be justified and that he would not mind carrying out a suicide attack on the crowd. According to evidence presented at trial, in the ensuing months Mohamud continued to express his interest in carrying out the attack and worked on logistics.  On Nov. 4, 2010, Mohamud and the undercover FBI operatives traveled to a remote location in Lincoln County, Oregon, where they detonated a bomb concealed in a backpack as a trial run for the upcoming attack.  During the drive back to Corvallis, Mohamud was asked if was capable looking at all the bodies of those who would be killed during the explosion.  In response, Mohamud noted, “I want whoever is attending that event to be, to leave either dead or injured.”  Mohamud later recorded a video of himself, with the assistance of the undercover FBI operatives, in which he read a statement that offered his rationale for his bomb attack.  On Nov. 18, 2010, undercover FBI operatives picked up Mohamud to travel to Portland to finalize the details of the attack.  On Nov. 26, 2010, just hours before the planned attack, Mohamud examined the 1,800 pound bomb in the van and remarked that it was “beautiful.”  Later that day, Mohamud was arrested after he attempted to remotely detonate the inert vehicle bomb rked near the Christmas tree lighting ceremony This case was investigated by the FBI, with assistance from the Oregon State Police, the Corvallis Police Department, the Lincoln County Sheriff’s Office and the Portland Police Bureau.  The prosecution was handled by Assistant U.S. Attorneys Ethan D. Knight and Pamala Holsinger from the U.S. Attorney’s Office for the District of Oregon.  Trial Attorney Jolie F. Zimmerman, from the Counterterrorism Section of the Justice Department’s National Security Division, assisted. # # # 14-1077   \n",
       "1                                                                                                                                                                                                                                                                                                                                                                                                                                                                                                                                                                                                                                                                                                                                                                                                                                                                                                                                                                                                                                                                                                                                                                                                                                                                                                                                                                                                                                                                                                                                                                                                                                                                                                                                                                                                                                                                                                                                                                                                                                                                                                                                                                                                                                       WASHINGTON – North Carolina’s Waccamaw River watershed will benefit from a $1 million restitution order from a federal court, funding environmental projects to acquire and preserve wetlands in an area damaged by illegal releases of wastewater from a corporate hog farm, announced Ignacia S. Moreno, Assistant Attorney General of the Justice Department’s Environment and Natural Resources Division; U.S. Attorney for the Eastern District of North Carolina Thomas G. Walker; Director Greg McLeod from the North Carolina State Bureau of Investigation; and Camilla M. Herlevich, Executive Director of the North Carolina Coastal Land Trust.   Freedman Farms Inc. was sentenced in February 2012 to five years of probation and ordered to pay $1.5 million in fines, restitution and community service payments for violating the Clean Water Act when it discharged hog waste into a stream that leads to the Waccamaw River.  William B. Freedman, president of Freedman Farms, was sentenced to six months in prison to be followed by six months of home confinement.  Freedman Farms also is required to implement a comprehensive environmental compliance program and institute an annual training program.   In an order issued on April 19, 2012, the court ordered that the defendants would be responsible for restitution of $1 million in the form of five annual payments starting in January 2013, which the court will direct to the North Carolina Coastal Land Trust (NCCLT).  The NCCLT plans to use the money to acquire and conserve land along streams in the Waccamaw watershed.  The court also directed a $75,000 community service payment to the Southern Environmental Enforcement Network, an organization dedicated to environmental law enforcement training and information sharing in the region.    “The resolution of the case against Freedman Farms demonstrates the commitment of the Department of Justice to enforcing the Clean Water Act to ensure the protection of human health and the environment,” said Assistant Attorney General Moreno.  “The court-ordered restitution in this case will conserve wetlands for the benefit of the people of North Carolina.  By enforcing the nation’s environmental laws, we will continue to ensure that concentrated animal feeding operations (CAFOs) operate without threatening our drinking water, the health of our communities and the environment.”   “This office is committed to doing our part to hold accountable those who commit crimes against our environment, which can cause serious health problems to residents and damage the environment that makes North Carolina such a beautiful place to live and visit,” said U.S. Attorney Walker.   “This case shows what we can accomplish when our SBI agents work closely with their local, state and federal partners to investigate environmental crimes and hold the polluters accountable,” said Director McLeod.  “We’ll continue our efforts to fight illegal pollution that damages our water and puts the public’s health at risk.”    “The Waccamaw is unique and wild,” said Director Herlevich of the North Carolina Coastal Land Trust. “Its watershed includes some of the most extensive cypress gum swamps in the state, and its headwaters at Lake Waccamaw contain fish that are found nowhere else on Earth.  We appreciate the trust of the court and the U. S. Attorney, and we look forward to using these funds for conservation projects in a river system that is one of our top conservation priorities.”   According to evidence presented in court, in December 2007 Freedman Farms discharged hog waste into Browder’s Branch, a tributary to the Waccamaw River that flows through the White Marsh, a large wetlands complex.  Freedman Farms, located in Columbus County, N.C., is in the business of raising hogs for market, and this particular farm had some 4,800 hogs.  The hog waste was supposed to be directed to two lagoons for treatment and disposal.  Instead, hog waste was discharged from Freedman Farms directly into Browder’s Branch.    The Clean Water Act is a federal law that makes it illegal to knowingly or negligently discharge a pollutant into a water of the United States.    The Freedman case was investigated by the U.S. Environmental Protection Agency (EPA) Criminal Investigation Division, the U.S. Army Corps of Engineers and the North Carolina State Bureau of Investigation, with assistance from the EPA Science and Ecosystem Support Division.  The case was prosecuted by Assistant U.S. Attorney J. Gaston B. Williams of the Eastern District of North Carolina and Trial Attorney Mary Dee Carraway of the Environmental Crimes Section of the Justice Department’s Environment and Natural Resources Division.   The North Carolina Coastal Land Trust is celebrating its 20th anniversary of saving special lands in eastern North Carolina. The organization has protected nearly 50,000 acres of lands with scenic, recreational, historic and ecological values. North Carolina Coastal Land Trust has saved streams and wetlands that provide clean water, forests that are havens for wildlife, working farms that provide local food and nature parks that everyone can enjoy.  More information about the Coastal Land Trust is available at www.coastallandtrust.org.   \n",
       "2                                                                                                                                                                                                                                                                                                                                                                                                                                                                                                                                                                                                                                                                                                                                                                                                                                                                                                                                                                                                                                                                                                                                                                                                                                                                                                                                                                                                                                                                                                                                                                                                                                                                                                                                                                                                                                                        BOSTON– A $1-million settlement has been reached for natural resource damages (NRD) at the Blackburn & Union Privileges Superfund Site in Walpole, Mass., the Departments of Justice and Interior (DOI), and the Office of the Massachusetts Attorney General announced today.                The Blackburn & Union Privileges Superfund Site includes 22 acres of contaminated land and water in Walpole. The contamination resulted from the operations of various industrial facilities dating back to the 19th century that exposed the site to asbestos, arsenic, lead and other hazardous substances.                The private parties involved in the settlement include two former owners and operators of the site, W.R. Grace & Co.– Conn. and Tyco Healthcare Group LP, as well as the current owners, BIM Investment Corp. and Shaffer Realty Nominee Trust.               From about 1915 to 1936, a predecessor of W.R. Grace manufactured asbestos brake linings and clutch linings on a large portion of the property. From 1946 to about 1983, a predecessor of Tyco Healthcare operated a cotton fabric manufacturing business, which used caustic solutions, on a portion of the property.               In a 2010 settlement with U.S. Environmental Protection Agency (EPA), the four private parties agreed to perform a remedial action to clean up the site at an estimated cost of $13 million. The consent decree lodged today resolves both state and federal NRD liability claims; it requires the parties to pay $1,094,169.56 to the state and federal natural resource trustees, the Massachusetts Executive Office of Energy and Environmental Affairs (EEA) and DOI, for injuries to ecological resources including groundwater and wetlands, which provide habitat for waterfowl and wading birds, including black ducks and great blue herons.  The trustees will use the settlement funds for natural resource restoration projects in the area.               “This settlement demonstrates our commitment to recovering damages from the parties responsible for injury to natural resources, in partnership with state trustees,” said Bruce Gelber, Acting Deputy Assistant Attorney General of the Justice Department’s Environment and Natural Resources Division.               “The citizens of Walpole have had to live with the environmental impact of this contamination for many years,” Attorney General Martha Coakley said. “We are pleased that today’s agreement will not only require the responsible parties to reimburse taxpayer dollars, but will also provide funding to begin restoring or replacing the wetland and other natural resources.”                 The consent decree was lodged in the U.S. District Court for Massachusetts.     A portion of the funds, $300,000, will be distributed to the EEA-sponsored groundwater restoration projects; $575,000 will be used for ecological restoration projects jointly sponsored by EEA and the U.S. Fish and Wildlife Service (FWS).               In addition, $125,000 will go for projects jointly sponsored by EEA and FWS that achieve both ecological and groundwater restoration; $57,491.34 will be allocated for reimbursement for the FWS’s assessment costs; and $36,678.22 will be distributed as reimbursement for the commonwealth’s assessment costs.       “This settlement provides the means for a range of projects designed to compensate the public for decades of groundwater and other ecological damage at this site.  I encourage local citizens and organizations to become engaged in the public process that will take place as we solicit, take comment on, and choose these projects in the months ahead,” said Energy and Environmental Affairs Secretary Richard K. Sullivan Jr., who serves as the Commonwealth’s Natural Resources Damages trustee.       “This settlement will help restore habitat for fish and wildlife in the Neponset River watershed,” said Tom Chapman of the FWS New England Field Office. “We look forward to working with the commonwealth and local stakeholders to implement restoration.”               “More than 100 years-worth of industrial activities at this site caused major environmental contamination to the Neponset River, nearby wetlands and to groundwater below the site,” said Commissioner Kenneth Kimmell of the Massachusetts Department of Environmental Protection (MassDEP), which will staff the Trustee Council for the Commonwealth. “We will ensure that the community and the public will be active participants in the process to use these NRD funds to restore the injured natural resources.”                Under the federal Comprehensive Environmental Response, Compensation and Liability Act, EEA and DOI, acting through the FWS, are the designated state and federal natural resource Trustees for the site. The site has been listed on the EPA’s National Priorities List since 1994.        The consent decree is subject to a public comment period and court approval. A copy of the consent decree and instructions about how to submit comments is available on www.usdoj.gov/enrd/Consent_Decrees.html  .               After the consent decree is approved, EEA and FWS will develop proposed restoration plans to use the settlement funds for restoration projects. The proposed restoration plans will also be made available to the public for review and comment.                Assistant Attorney General Matthew Brock of Massachusetts Attorney General Coakley's Environmental Protection Division handled this matter.  Attorney Jennifer Davis of MassDEP, Attorney Anna Blumkin of EEA and MassDEP’s NRD Coordinator Karen Pelto also worked on this settlement.   \n",
       "3                                                                                                                                                                                                                                                                                                                                                                                                                                                                                                                                                                                                                                                                                                                                                                                                                                                                                                                                                                                                                                                                                                                                                                                                                                                                                                                                                                                                                                                                                                                                                                                                                                                                                                                                                                                                                                                                                                                                                                                                                                                                                                                                                                                                                                                                                                                                                                                                                                                                                                                                                                                                                                                                                                                                                                                                                                                                                                                                                                                                                                                                                                                                                                                                                                                                                                                                                                                                                                                                                                                           WASHINGTON—A federal grand jury in Las Vegas today returned indictments against 10 Nevada-certified emissions testers for falsifying vehicle emissions test reports, the Justice Department announced.   Each defendant faces one felony Clean Air Act count for falsifying reports between November 2007 and May 2009. The number of falsifications varied by defendant, with some defendants having falsified approximately 250 records, while others falsified more than double that figure. One defendant is alleged to have falsified over 700 reports.   The individuals indicted include:     Escudero resides in Pahrump, Nev. All other individuals are from Clark County, Nev.    The 10 defendants are alleged to have engaged in a practice known as \"clean scanning\" vehicles. The scheme involved entering the Vehicle Identification Number (VIN) for a vehicle that would not pass the emissions test into the computerized system, then connecting a different vehicle the testers knew would pass the test. These falsifications were allegedly performed for anywhere from $10 to $100 over and above the usual emissions testing fee.    The U.S. Environmental Protection Agency (EPA), under the Clean Air Act, requires the state of Nevada to conduct vehicle emissions testing in certain areas because the areas exceed national standards for carbon monoxide and ozone. Las Vegas is currently required to perform emissions testing.    To obtain a registration renewal, vehicle owners bring the vehicles to a licensed inspection station for testing. The emissions inspector logs into a computer to activate the system by using a unique password issued to the emissions inspector. The emissions inspector manually inputs the vehicle’s VIN to identify the tested vehicle, then connects the vehicle for model year 1996 and later to an onboard diagnostics port connected to an analyzer. The analyzer downloads data from the vehicle’s computer, analyzes the data and provides a \"pass\" or \"fail\" result. The pass or fail result and vehicle identification data are reported on the Vehicle Inspection Report. It is a crime to knowingly alter or conceal any record or other document required to be maintained by the Clean Air Act.     \"Falsifications of vehicle emissions testing, such as those alleged in the indictments unsealed today, are serious matters and we intend to use all of our enforcement tools to stop this harmful practice. These actions undermine a system that is designed to reduce air pollutants including smog and provide better air quality for the citizens of Nevada,\" said Ignacia S. Moreno, Assistant Attorney General for the Justice Department’s Environment and Natural Resources Division.    \"The residents of Nevada deserve to know that the vast majority of licensed vehicle emission inspectors are not corrupt and are not circumventing emission testing procedures,\" said U.S. Attorney Bogden. \"These indictments should serve as a clear warning to offenders that the Department of Justice will prosecute you if you make fraudulent statements and reports concerning compliance with the federal Clean Air Act.\"    \"Lying about car emissions means dirtier air, which is especially of concern in areas like Las Vegas that are already experiencing air quality problems,\" said Cynthia Giles, Assistant Administrator for Enforcement and Compliance Assurance at EPA. \"We will take aggressive action to ensure communities have clean air.\"    The maximum penalty for the felony violations contained in the indictments includes up to two years in prison and a fine of up to $250,000.    An indictment is merely an accusation, and a defendant is presumed innocent unless and until proven guilty in a court of law.    The case was investigated by the EPA, Criminal Investigation Division; and the Nevada Department of Motor Vehicles Compliance Enforcement Division. The case is being prosecuted by the U.S. Attorney’s Office for the District of Nevada and the Justice Department’s Environmental Crimes Section.   \n",
       "4                                                                                                                                                                                                                                                                                                                                                                                                                                                                                                                                                                                                                                                                                                                                                                                                                                                                                                                                                                                                                                                                                                                                   The U.S. Department of Justice, the U.S. Environmental Protection Agency (EPA), and the Rhode Island Department of Environmental Management (RIDEM) announced today that two subsidiaries of Stanley Black & Decker Inc.—Emhart Industries Inc. and Black & Decker Inc.—have agreed to clean up dioxin contaminated sediment and soil at the Centredale Manor Restoration Project Superfund Site in North Providence and Johnston, Rhode Island.  “We are pleased to reach a resolution through collaborative work with the responsible parties, EPA, and other stakeholders,” said Acting Assistant Attorney General Jeffrey H. Wood for the Justice Department's Environment and Natural Resources Division . “Today’s settlement ends protracted litigation and allows for important work to get underway to restore a healthy environment for citizens living in and around the Centredale Manor Site and the Woonasquatucket River.” “This settlement demonstrates the tremendous progress we are achieving working with responsible parties, states, and our federal partners to expedite sites through the entire Superfund remediation process,” said EPA Acting Administrator Andrew Wheeler. “The Centredale Manor Site has been on the National Priorities List for 18 years; we are taking charge and ensuring the Agency makes good on its promise to clean it up for the betterment of the environment and those communities affected.” “Successfully concluding this settlement paves the way for EPA to make good on our commitment to aggressively pursue cleaning up the Centredale Manor Superfund Site,” said EPA New England Regional Administrator Alexandra Dunn. “We are excited to get to work on the cleanup at this site, and get it closer to the goal of being fully utilized by the North Providence and Johnston communities.” “We are pleased that the collective efforts of the State of Rhode Island, EPA, and DOJ in these negotiations have concluded in this major milestone toward the cleanup of the Centredale Manor Restoration Superfund site and are consistent with our long-standing efforts to make the polluter pay,” said RIDEM Director Janet Coit. “The settlement will speed up a remedy that protects public health and the river environment, and moves us closer to the day that we can reclaim recreational uses of this beautiful river resource.” The settlement, which includes cleanup work in the Woonasquatucket River (River) and bordering residential and commercial properties along the River, requires the companies to perform the remedy selected by EPA for the Site in 2012, which is estimated to cost approximately $100 million, and resolves longstanding litigation. The cleanup remedy includes excavation of contaminated sediment and floodplain soil from the Woonasquatucket River, including from adjacent residential properties. Once the cleanup remedy is completed, full access to the Woonasquatucket River should be restored for local citizens. The cleanup will be a step toward the State’s goal of a fishable and swimmable river. The work will also include upgrading caps over contaminated soil in the peninsula area of the Site that currently house two high-rise apartment buildings. The settlement also ensures that the long-term monitoring and maintenance of the site, as directed in the remedy, will be implemented to ensure that public health is protected.  Under the settlement, Emhart and Black & Decker will reimburse EPA for approximately $42 million in past costs incurred at the Site. The companies will also reimburse EPA and the State of Rhode Island for future costs incurred by those agencies in overseeing the work required by the settlement. The settlement will also include payments on behalf of two federal agencies to resolve claims against those agencies. These payments, along with prior settlements related to the Site, will result in a 100 percent recovery for the United States of its past and future response costs related to the Site. Litigation related to the Site has been ongoing for nearly eight years. While the Federal District Court found Black & Decker and Emhart to be liable for their hazardous waste and responsible to conduct the cleanup of the Site, it had also ruled that EPA needed to reconsider certain aspects of that cleanup. EPA appealed the decision requiring it to reconsider aspects of the cleanup. This settlement, once entered by the District Court, will resolve the litigation between the United States, Rhode Island, and Emhart and Black and Decker, allowing the cleanup of the Site to begin. The Site spans a one and a half mile stretch of the Woonasquatucket River and encompasses a nine-acre peninsula, two ponds and a significant forested wetland. From the 1940s to the early 1970s, Emhart’s predecessor operated a chemical manufacturing facility on the peninsula and used a raw material that was contaminated with 2,3,7,8-tetrachlorodibenzo-p-dioxin, a toxic form of dioxin. The Site property was also previously used by a barrel refurbisher. Elevated levels of dioxins and other contaminants have been detected in soil, groundwater, sediment, surface water and fish.  The Site was added to the National Priorities List (NPL) in 2000, and in December 2017, EPA included the Centredale Manor Restoration Project Superfund Site on a list of Superfund sites targeted for immediate and intense attention. Several short-term actions were previously performed at the Site to address immediate threats to the residents and minimize potential erosion and downstream transport of contaminated soil and sediment. This settlement is the latest agreement EPA has reached since the Site was listed on the NPL. Prior agreements addressed the performance and recovery of costs for the past environmental investigations and interim cleanup actions from Emhart, the barrel reconditioning company, the current owners of the peninsula portion of the Site, and other potentially responsible parties. The Consent Decree, lodged in the U.S. District Court of Rhode Island, will be posted in the Federal Register and available for public comment for a period of 30 days. The Consent Decree can be viewed on the Justice Department website: www.justice.gov/enrd/Consent_Decrees.html.  EPA information on the Centredale Manor Superfund Site: www.epa.gov/superfund/centredale.   \n",
       "\n",
       "                        date topics_clean  \\\n",
       "0  2014-10-01T00:00:00-04:00     No topic   \n",
       "1  2012-07-25T00:00:00-04:00     No topic   \n",
       "2  2011-08-03T00:00:00-04:00     No topic   \n",
       "3  2010-01-08T00:00:00-05:00     No topic   \n",
       "4  2018-07-09T00:00:00-04:00  Environment   \n",
       "\n",
       "                             components_clean  \n",
       "0            National Security Division (NSD)  \n",
       "1  Environment and Natural Resources Division  \n",
       "2  Environment and Natural Resources Division  \n",
       "3  Environment and Natural Resources Division  \n",
       "4  Environment and Natural Resources Division  "
      ]
     },
     "execution_count": 2,
     "metadata": {},
     "output_type": "execute_result"
    }
   ],
   "source": [
    "## first, unzip the file pset3_inputdata.zip \n",
    "## then, run this code to load the unzipped json file and convert to a dataframe\n",
    "## (may need to change the pathname depending on where you store stuff)\n",
    "## and convert some of the attributes from lists to values\n",
    "doj = pd.read_json(\"../pset3/combined.json\", lines = True)\n",
    "\n",
    "## due to json, topics are in a list so remove them and concatenate with ;\n",
    "doj['topics_clean'] = [\"; \".join(topic) \n",
    "                      if len(topic) > 0 else \"No topic\" \n",
    "                      for topic in doj.topics]\n",
    "\n",
    "## similarly with components\n",
    "doj['components_clean'] = [\"; \".join(comp) \n",
    "                           if len(comp) > 0 else \"No component\" \n",
    "                           for comp in doj.components]\n",
    "\n",
    "## drop older columns from data\n",
    "doj = doj[['id', 'title', 'contents', 'date', 'topics_clean', \n",
    "           'components_clean']].copy()\n",
    "\n",
    "doj.head()"
   ]
  },
  {
   "cell_type": "markdown",
   "metadata": {},
   "source": [
    "## 1. Tagging and sentiment scoring (17 points)\n",
    "\n",
    "Focus on the following press release: `id` == \"17-1204\" about this pharmaceutical kickback prosecution: https://www.forbes.com/sites/michelatindera/2017/11/16/fentanyl-billionaire-john-kapoor-to-plead-not-guilty-in-opioid-kickback-case/?sh=21b8574d6c6c \n",
    "\n",
    "The `contents` column is the one we're treating as a document. You may need to to convert it from a pandas series to a single string.\n",
    "\n",
    "We'll call the raw string of this press release `pharma`"
   ]
  },
  {
   "cell_type": "code",
   "execution_count": 3,
   "metadata": {},
   "outputs": [
    {
     "name": "stdout",
     "output_type": "stream",
     "text": [
      "4909    The founder and majority owner of Insys Therapeutics Inc., was arrested today and charged with leading a nationwide conspiracy to profit by using bribes and fraud to cause the illegal distribution of a Fentanyl spray intended for cancer patients experiencing breakthrough pain. \"More than 20,000 Americans died of synthetic opioid overdoses last year, and millions are addicted to opioids. And yet some medical professionals would rather take advantage of the addicts than try to help them,\" said Attorney General Jeff Sessions. \"This Justice Department will not tolerate this.  We will hold accountable anyone – from street dealers to corporate executives -- who illegally contributes to this nationwide epidemic.  And under the leadership of President Trump, we are fully committed to defeating this threat to the American people.”John N. Kapoor, 74, of Phoenix, Ariz., a current member of the Board of Directors of Insys, was arrested this morning in Arizona and charged with RICO conspiracy, as well as other felonies, including conspiracy to commit mail and wire fraud and conspiracy to violate the Anti-Kickback Law. Kapoor, the former Executive Chairman of the Board and CEO of Insys, will appear in federal court in Phoenix today.  He will appear in U.S. District Court in Boston at a later date. The superseding indictment, unsealed today in Boston, also includes additional allegations against several former Insys executives and managers who were initially indicted in December 2016.The superseding indictment charges that Kapoor; Michael L. Babich, 40, of Scottsdale, Ariz., former CEO and President of the company; Alec Burlakoff, 42, of Charlotte, N.C., former Vice President of Sales; Richard M. Simon, 46, of Seal Beach, Calif., former National Director of Sales; former Regional Sales Directors Sunrise Lee, 36, of Bryant City, Mich., and Joseph A. Rowan, 43, of Panama City, Fla.; and former Vice President of Managed Markets, Michael J. Gurry, 53, of Scottsdale, Ariz., conspired to bribe practitioners in various states, many of whom operated pain clinics, in order to get them to prescribe a fentanyl-based pain medication.  The medication, called “Subsys,” is a powerful narcotic intended to treat cancer patients suffering intense breakthrough pain.  In exchange for bribes and kickbacks, the practitioners wrote large numbers of prescriptions for the patients, most of whom were not diagnosed with cancer.The indictment also alleges that Kapoor and the six former executives conspired to mislead and defraud health insurance providers who were reluctant to approve payment for the drug when it was prescribed for non-cancer patients.  They achieved this goal by setting up the “reimbursement unit,” which was dedicated to obtaining prior authorization directly from insurers and pharmacy benefit managers. “In the midst of a nationwide opioid epidemic that has reached crisis proportions, Mr. Kapoor and his company stand accused of bribing doctors to overprescribe a potent opioid and committing fraud on insurance companies solely for profit,” said Acting United States Attorney William D. Weinreb. “Today's arrest and charges reflect our ongoing efforts to attack the opioid crisis from all angles. We must hold the industry and its leadership accountable - just as we would the cartels or a street-level drug dealer.”“As alleged, these executives created a corporate culture at Insys that utilized deception and bribery as an acceptable business practice, deceiving patients, and conspiring with doctors and insurers,” said Harold H. Shaw, Special Agent in Charge of the Federal Bureau of Investigation, Boston Field Division. “The allegations of selling a highly addictive opioid cancer pain drug to patients who did not have cancer, make them no better than street-level drug dealers. Today's charges mark an important step in holding pharmaceutical executives responsible for their part in the opioid crisis.   The FBI will vigorously investigate corrupt organizations with business practices that promote fraud with a total disregard for patient safety.”“These Insys executives allegedly fueled the opioid epidemic by paying doctors to needlessly prescribe an extremely dangerous and addictive form of fentanyl,” said Phillip Coyne, Special Agent in Charge for the Office of Inspector General of the U.S. Department of Health and Human Services.  “Corporate executives intent on illegally driving up profits need to be aware they are now squarely in the sights of law enforcement.”“As alleged, Insys executives improperly influenced health care providers to prescribe a powerful opioid for patients who did not need it, and without complying with FDA requirements, thus putting patients at risk and contributing to the current opioid crisis,” said Mark A. McCormack, Special Agent in Charge, FDA Office of Criminal Investigations’ Metro Washington Field Office. “Our office will continue to work with our law enforcement partners to pursue and bring to justice those who threaten the public health.”“Pharmaceutical companies whose products include controlled medications that can lead to addiction and overdose have a special obligation to operate in a trustworthy, transparent manner, because their customers’ health and safety and, indeed, very lives depend on it,” said DEA Special Agent in Charge Michael J. Ferguson.  “DEA pledges to work with our law enforcement and regulatory partners nationwide to ensure that rules and regulations under the Controlled Substances Act are followed.”“Today’s arrest is the result of a joint effort to identify, investigate and prosecute individuals who engage in fraudulent activity and endanger patient health,” stated Special Agent in Charge Leigh-Alistair Barzey, Defense Criminal Investigative Service (DCIS) Northeast Field Office.  “DCIS will continue to work with the U.S. Attorney’s Office, District of Massachusetts, and our law enforcement partners, to protect U.S. military members, retirees and their dependents and the integrity of TRICARE, the Defense Department’s healthcare system.”“As alleged, John Kapoor and other top executives committed fraud, placing profit before patient safety, to sell a highly potent and addictive opioid.  EBSA will take every opportunity to work collaboratively with our law enforcement partners in these important investigations to protect participants in private sector health plans and contribute in fighting the opioid epidemic,” said Susan A. Hensley, Regional Director of the U.S. Department of Labor, Employee Benefits Security Administration, Boston Regional Office.“Once again, the United States Postal Inspection Service is fully committed to protecting our nation’s mail system from criminal misuse,” said Shelly Binkowski, Inspector in Charge of the U.S. Postal Inspection Service. “We are proud to work alongside our law enforcement partners to dismantle high level prescription drug practices which directly contribute to the opioid abuse epidemic.  This investigation highlights our commitment to defending our mail system from illegal misuse and ensuring public trust in the mail.”“The U.S. Department of Veterans Affairs, Office of Inspector General will continue to aggressively investigate those that attempt to fraudulently impact programs designed to benefit our veterans and their families,” said Donna L. Neves, Special Agent in Charge of the VA OIG Northeast Field Office.The charges of conspiracy to commit RICO and conspiracy to commit mail and wire fraud each provide for a sentence of no greater than 20 years in prison, three years of supervised release and a fine of $250,000, or twice the amount of pecuniary gain or loss.  The charges of conspiracy to violate the Anti-Kickback Law provide for a sentence of no greater than five years in prison, three years of supervised release and a $25,000 fine. Sentences are imposed by a federal district court judge based upon the U.S. Sentencing Guidelines and other statutory factors.The investigation was conducted by a team that included the FBI; HHS-OIG; FDA Office of Criminal Investigations; the Defense Criminal Investigative Service; the Drug Enforcement Administration; the Department of Labor, Employee Benefits Security Administration; the Office of Personnel Management; the U.S. Postal Inspection Service; the U.S. Postal Service Office of Inspector General; and the Department of Veterans Affairs.  The U.S. Attorney’s Office would like to acknowledge the cooperation and assistance of the U.S. Attorney’s Offices around the country engaged in parallel investigations, including the District of Connecticut, Eastern District of Michigan, Southern District of Alabama, Southern District of New York, District of Rhode Island, and the District of New Hampshire.  The efforts of the Central District of California and the Justice Department’s Civil Fraud Section of the Department of Justice are also greatly appreciated. Assistant U.S. Attorneys K. Nathaniel Yeager, Chief of Weinreb’s Health Care Fraud Unit, and Susan M. Poswistilo, of Weinreb’s Civil Division, are prosecuting the case.The details contained in the charging documents are allegations.  The defendants are presumed innocent unless and until proven guilty beyond a reasonable doubt.\n",
      "Name: contents, dtype: object\n"
     ]
    }
   ],
   "source": [
    "## your code to subset to one press release and take the string\n",
    "pharma = str(doj[doj[\"id\"] == \"17-1204\"][\"contents\"])\n",
    "print(pharma)\n"
   ]
  },
  {
   "cell_type": "markdown",
   "metadata": {},
   "source": [
    "### 1.1 part of speech tagging (3 points)\n",
    "\n",
    "A. Preprocess the `pharma` press release to remove all punctuation / digits (you can use `.isalpha()` to subset)\n",
    "\n",
    "B. With the preprocessed press release from part A, use the part of speech tagger within nltk to tag all the words in that one press release with their part of speech. \n",
    "\n",
    "C. Using the output from B, extract the adjectives and sort those adjectives from most occurrences to fewest occurrences. Print a dataframe with the 5 most frequent adjectives and their counts in the `pharma` release. See here for a list of the names of adjectives within nltk: https://pythonprogramming.net/natural-language-toolkit-nltk-part-speech-tagging/\n",
    "\n",
    "**Resources**:\n",
    "\n",
    "- Documentation for `.isalpha()`: https://www.w3schools.com/python/ref_string_isalpha.asp"
   ]
  },
  {
   "cell_type": "code",
   "execution_count": 4,
   "metadata": {},
   "outputs": [
    {
     "name": "stdout",
     "output_type": "stream",
     "text": [
      "The founder and majority owner of Insys Therapeutics was arrested today and charged with leading a nationwide conspiracy to profit by using bribes and fraud to cause the illegal distribution of a Fentanyl spray intended for cancer patients experiencing breakthrough than Americans died of synthetic opioid overdoses last and millions are addicted to And yet some medical professionals would rather take advantage of the addicts than try to help said Attorney General Jeff Justice Department will not tolerate We will hold accountable anyone from street dealers to corporate executives who illegally contributes to this nationwide And under the leadership of President we are fully committed to defeating this threat to the American of a current member of the Board of Directors of was arrested this morning in Arizona and charged with RICO as well as other including conspiracy to commit mail and wire fraud and conspiracy to violate the the former Executive Chairman of the Board and CEO of will appear in federal court in Phoenix He will appear in District Court in Boston at a later The superseding unsealed today in also includes additional allegations against several former Insys executives and managers who were initially indicted in December superseding indictment charges that Michael of former CEO and President of the Alec of former Vice President of Richard of Seal former National Director of former Regional Sales Directors Sunrise of Bryant and Joseph of Panama and former Vice President of Managed Michael of conspired to bribe practitioners in various many of whom operated pain in order to get them to prescribe a pain The called is a powerful narcotic intended to treat cancer patients suffering intense breakthrough In exchange for bribes and the practitioners wrote large numbers of prescriptions for the most of whom were not diagnosed with indictment also alleges that Kapoor and the six former executives conspired to mislead and defraud health insurance providers who were reluctant to approve payment for the drug when it was prescribed for They achieved this goal by setting up the which was dedicated to obtaining prior authorization directly from insurers and pharmacy benefit the midst of a nationwide opioid epidemic that has reached crisis Kapoor and his company stand accused of bribing doctors to overprescribe a potent opioid and committing fraud on insurance companies solely for said Acting United States Attorney William arrest and charges reflect our ongoing efforts to attack the opioid crisis from all We must hold the industry and its leadership accountable just as we would the cartels or a drug these executives created a corporate culture at Insys that utilized deception and bribery as an acceptable business deceiving and conspiring with doctors and said Harold Special Agent in Charge of the Federal Bureau of Boston Field allegations of selling a highly addictive opioid cancer pain drug to patients who did not have make them no better than drug charges mark an important step in holding pharmaceutical executives responsible for their part in the opioid The FBI will vigorously investigate corrupt organizations with business practices that promote fraud with a total disregard for patient Insys executives allegedly fueled the opioid epidemic by paying doctors to needlessly prescribe an extremely dangerous and addictive form of said Phillip Special Agent in Charge for the Office of Inspector General of the Department of Health and Human executives intent on illegally driving up profits need to be aware they are now squarely in the sights of law Insys executives improperly influenced health care providers to prescribe a powerful opioid for patients who did not need and without complying with FDA thus putting patients at risk and contributing to the current opioid said Mark Special Agent in FDA Office of Criminal Metro Washington Field office will continue to work with our law enforcement partners to pursue and bring to justice those who threaten the public companies whose products include controlled medications that can lead to addiction and overdose have a special obligation to operate in a transparent because their health and safety very lives depend on said DEA Special Agent in Charge Michael pledges to work with our law enforcement and regulatory partners nationwide to ensure that rules and regulations under the Controlled Substances Act are arrest is the result of a joint effort to investigate and prosecute individuals who engage in fraudulent activity and endanger patient stated Special Agent in Charge Defense Criminal Investigative Service Northeast Field will continue to work with the District of and our law enforcement to protect military retirees and their dependents and the integrity of the Defense healthcare John Kapoor and other top executives committed placing profit before patient to sell a highly potent and addictive EBSA will take every opportunity to work collaboratively with our law enforcement partners in these important investigations to protect participants in private sector health plans and contribute in fighting the opioid said Susan Regional Director of the Department of Employee Benefits Security Boston Regional the United States Postal Inspection Service is fully committed to protecting our mail system from criminal said Shelly Inspector in Charge of the Postal Inspection are proud to work alongside our law enforcement partners to dismantle high level prescription drug practices which directly contribute to the opioid abuse This investigation highlights our commitment to defending our mail system from illegal misuse and ensuring public trust in the Department of Veterans Office of Inspector General will continue to aggressively investigate those that attempt to fraudulently impact programs designed to benefit our veterans and their said Donna Special Agent in Charge of the VA OIG Northeast Field charges of conspiracy to commit RICO and conspiracy to commit mail and wire fraud each provide for a sentence of no greater than years in three years of supervised release and a fine of or twice the amount of pecuniary gain or The charges of conspiracy to violate the Law provide for a sentence of no greater than five years in three years of supervised release and a Sentences are imposed by a federal district court judge based upon the Sentencing Guidelines and other statutory investigation was conducted by a team that included the FDA Office of Criminal the Defense Criminal Investigative the Drug Enforcement the Department of Employee Benefits Security the Office of Personnel the Postal Inspection the Postal Service Office of Inspector and the Department of Veterans The Office would like to acknowledge the cooperation and assistance of the Offices around the country engaged in parallel including the District of Eastern District of Southern District of Southern District of New District of Rhode and the District of New The efforts of the Central District of California and the Justice Civil Fraud Section of the Department of Justice are also greatly Assistant Attorneys Nathaniel Chief of Health Care Fraud and Susan of Civil are prosecuting the details contained in the charging documents are The defendants are presumed innocent unless and until proven guilty beyond a reasonable object\n"
     ]
    }
   ],
   "source": [
    "## your code here to restrict to alpha\n",
    "def preprocess_text(text):\n",
    "    words = text.split()\n",
    "    \n",
    "    processed_words = [word for word in words if word.isalpha()]\n",
    "    \n",
    "    processed_text = ' '.join(processed_words)\n",
    "    \n",
    "    return processed_text\n",
    "\n",
    "pro_pharma = preprocess_text(pharma)\n",
    "\n",
    "print(pro_pharma)"
   ]
  },
  {
   "cell_type": "code",
   "execution_count": 5,
   "metadata": {},
   "outputs": [
    {
     "name": "stdout",
     "output_type": "stream",
     "text": [
      "          Word  Count\n",
      "9       former      8\n",
      "0   nationwide      4\n",
      "8        other      3\n",
      "28   addictive      3\n",
      "25      opioid      3\n"
     ]
    }
   ],
   "source": [
    "## your code here for part of speech tagging\n",
    "\n",
    "tokens = word_tokenize(pro_pharma)\n",
    "tokens_pos = pos_tag(tokens)\n",
    "\n",
    "all_adjectives = [token[0] for token in tokens_pos if token[1] == \"JJ\" or \n",
    "                  token[1] == \"JJR\" or token[1] == \"JJS\"]\n",
    "\n",
    "from collections import Counter\n",
    "\n",
    "word_counts = Counter(all_adjectives)\n",
    "word_counts_df = pd.DataFrame(list(word_counts.items()), \n",
    "                              columns = [\"Word\", \"Count\"])\n",
    "word_counts_df = word_counts_df.sort_values(by = \"Count\", ascending = False)\n",
    "word_counts_5 = word_counts_df.head(n = 5)\n",
    "print(word_counts_5)\n"
   ]
  },
  {
   "cell_type": "markdown",
   "metadata": {},
   "source": [
    "## 1.2 named entity recognition (4 points)"
   ]
  },
  {
   "cell_type": "markdown",
   "metadata": {},
   "source": [
    "A. Using the original `pharma` press release (so the one before stripping punctuation/digits), use spaCy to extract all named entities from the press release.\n",
    "\n",
    "B. Print the unique named entities with the tag: `LAW`"
   ]
  },
  {
   "cell_type": "code",
   "execution_count": 6,
   "metadata": {},
   "outputs": [],
   "source": [
    "## your code here for part A\n",
    "spacy_pharma = nlp(pharma) "
   ]
  },
  {
   "cell_type": "code",
   "execution_count": 7,
   "metadata": {},
   "outputs": [
    {
     "name": "stdout",
     "output_type": "stream",
     "text": [
      "Entity: RICO; NER tag: LAW\n",
      "Entity: the Controlled Substances Act; NER tag: LAW\n",
      "Entity: RICO; NER tag: LAW\n"
     ]
    }
   ],
   "source": [
    "## your code here for part B\n",
    "for token in spacy_pharma.ents:\n",
    "    if token.label_ == \"LAW\":\n",
    "        print(\"Entity: \" + token.text + \"; NER tag: \" + token.label_)\n",
    "        "
   ]
  },
  {
   "cell_type": "markdown",
   "metadata": {},
   "source": [
    "C. Use Google to summarize in one sentence what the `RICO` named entity means and why this might apply to a pharmaceutical kickbacks case (and not just a mafia case...) "
   ]
  },
  {
   "cell_type": "code",
   "execution_count": 8,
   "metadata": {},
   "outputs": [
    {
     "name": "stdout",
     "output_type": "stream",
     "text": [
      "The Racketeer Influenced and Corrupt Organizations Act \n",
      "    was enacted in 1970 to strengthen legal tools for investigators in cases \n",
      "    involving organized crime, and after reading about \n",
      "    a pharmaceutical case involving RICO, it's because these companies are \n",
      "    functioning basically as organized crime, offering bribes \n",
      "    to have doctors perscribe their drug and disguising payments as speaking events.\n"
     ]
    }
   ],
   "source": [
    "## your code here \n",
    "print(\"\"\"The Racketeer Influenced and Corrupt Organizations Act \n",
    "    was enacted in 1970 to strengthen legal tools for investigators in cases \n",
    "    involving organized crime, and after reading about \n",
    "    a pharmaceutical case involving RICO, it's because these companies are \n",
    "    functioning basically as organized crime, offering bribes \n",
    "    to have doctors perscribe their drug and disguising payments as speaking events.\"\"\")\n",
    "      "
   ]
  },
  {
   "cell_type": "markdown",
   "metadata": {},
   "source": [
    "D. You want to extract the possible sentence lengths the CEO is facing; pull out the named entities with (1) the label `DATE` and (2) that contain the word year or years (hint: you may want to use the `re` module for that second part). Print these named entities."
   ]
  },
  {
   "cell_type": "code",
   "execution_count": 9,
   "metadata": {},
   "outputs": [
    {
     "name": "stdout",
     "output_type": "stream",
     "text": [
      "last year\n",
      "20 years\n",
      "three years\n",
      "five years\n",
      "three years\n"
     ]
    }
   ],
   "source": [
    "## your code here\n",
    "for token in spacy_pharma.ents:\n",
    "    if (token.label_ == \"DATE\"): \n",
    "        if (re.search(r\"year(?:s)?\", token.text)):\n",
    "            print(token.text)\n",
    "            \n",
    "        "
   ]
  },
  {
   "cell_type": "markdown",
   "metadata": {},
   "source": [
    "E. Pull and print the original parts of the press releases where those year lengths are mentioned (e.g., the sentences or rough region of the press release). Describe in your own words (1 sentence) what length of sentence (prison) and probation (supervised release) the CEO may be facing if convicted after this indictment (if there are multiple lengths mentioned describe the maximum). \n",
    "\n",
    "**Hint**: you may want to use re.search or re.findall \n",
    "\n",
    "- For part E, you can use `re.search` and `re.findall`, or anything that works 😳."
   ]
  },
  {
   "cell_type": "code",
   "execution_count": 10,
   "metadata": {},
   "outputs": [
    {
     "name": "stdout",
     "output_type": "stream",
     "text": [
      "More than 20,000 Americans died of synthetic opioid overdoses last year\n",
      "The charges of conspiracy to commit RICO and conspiracy to commit mail and wire fraud each provide for a sentence of no greater than 20 years in prison, three years of supervised release and a fine\n",
      "The charges of conspiracy to violate the Anti-Kickback Law provide for a sentence of no greater than five years in prison, three years of supervised release and a\n",
      "The CEO may be facing up to 20 years of imprisonment and 3 years \n",
      "    of supervised release if convicted.\n"
     ]
    }
   ],
   "source": [
    "## your code here\n",
    "pattern = r\"[A-Z][^.]*\\b(?:year|years)\\b(?:\\s+\\w+){0,6}\"\n",
    "matches = re.finditer(pattern, pharma)\n",
    "\n",
    "for match in matches:\n",
    "    print(match.group().strip())\n",
    "\n",
    "print(\"\"\"The CEO may be facing up to 20 years of imprisonment and 3 years \n",
    "    of supervised release if convicted.\"\"\")\n",
    "    "
   ]
  },
  {
   "cell_type": "markdown",
   "metadata": {},
   "source": [
    "## 1.3 sentiment analysis  (10 points)\n",
    "\n",
    "A. Subset the press releases to those labeled with one of three topics via `topics_clean`: Civil Rights, Hate Crimes, and Project Safe Childhood. We'll call this `doj_subset` going forward and it should have 717 rows.\n",
    "\n"
   ]
  },
  {
   "cell_type": "code",
   "execution_count": 15,
   "metadata": {},
   "outputs": [],
   "source": [
    "## your code here for subsetting\n",
    "doj_subset = doj[doj[\"topics_clean\"].isin([\"Civil Rights\", \"Hate Crimes\", \n",
    "                                           \"Project Safe Childhood\"])]\n"
   ]
  },
  {
   "cell_type": "markdown",
   "metadata": {},
   "source": [
    "B. Write a function that takes one press release string as an input and:\n",
    "\n",
    "- Removes named entities from each press release string (**Hint**: you may want to use `re.sub` with an or condition)\n",
    "- Scores the sentiment of the entire press release using the `SentimentIntensityAnalyzer` and `polarity_scores`\n",
    "- Returns the length-four (negative, positive, neutral, compound) sentiment dictionary (any order is fine)\n",
    "\n",
    "Apply that function to each of the press releases in `doj_subset`. \n",
    "\n",
    "**Hints**: \n",
    "\n",
    "- A function + list comprehension to execute will takes about 30 seconds on a respectable local machine and about 2 mins on jhub; if it's taking a very long time, you may want to check your code for inefficiencies. If you can't fix those, for partial credit on this part/full credit on remainder, you can take a small random sample of the 717\n"
   ]
  },
  {
   "cell_type": "code",
   "execution_count": 16,
   "metadata": {},
   "outputs": [],
   "source": [
    "## your code here to define function\n",
    "def function(text): \n",
    "    doc = nlp(text)\n",
    "    clean_text = ' '.join([token.text for token in doc if not token.ent_type_])\n",
    "\n",
    "    sentiment_scores = SentimentIntensityAnalyzer().polarity_scores(clean_text)\n",
    "    return sentiment_scores\n",
    "    \n"
   ]
  },
  {
   "cell_type": "code",
   "execution_count": 17,
   "metadata": {},
   "outputs": [],
   "source": [
    "## your code here executing the function\n",
    "text_scores = [function(text) for text in doj_subset[\"contents\"]]"
   ]
  },
  {
   "cell_type": "code",
   "execution_count": 148,
   "metadata": {},
   "outputs": [
    {
     "name": "stdout",
     "output_type": "stream",
     "text": [
      "[{'neg': 0.18, 'neu': 0.773, 'pos': 0.047, 'compound': -0.992}, {'neg': 0.111, 'neu': 0.823, 'pos': 0.066, 'compound': -0.891}, {'neg': 0.091, 'neu': 0.838, 'pos': 0.07, 'compound': -0.8316}, {'neg': 0.115, 'neu': 0.807, 'pos': 0.077, 'compound': -0.9037}, {'neg': 0.167, 'neu': 0.781, 'pos': 0.052, 'compound': -0.9839}, {'neg': 0.144, 'neu': 0.809, 'pos': 0.047, 'compound': -0.9905}, {'neg': 0.139, 'neu': 0.779, 'pos': 0.082, 'compound': -0.9403}, {'neg': 0.087, 'neu': 0.852, 'pos': 0.061, 'compound': -0.7783}, {'neg': 0.121, 'neu': 0.824, 'pos': 0.055, 'compound': -0.9648}, {'neg': 0.148, 'neu': 0.797, 'pos': 0.054, 'compound': -0.9741}, {'neg': 0.225, 'neu': 0.743, 'pos': 0.032, 'compound': -0.9982}, {'neg': 0.09, 'neu': 0.849, 'pos': 0.06, 'compound': -0.8519}, {'neg': 0.077, 'neu': 0.862, 'pos': 0.061, 'compound': -0.6486}, {'neg': 0.332, 'neu': 0.638, 'pos': 0.03, 'compound': -0.9959}, {'neg': 0.179, 'neu': 0.761, 'pos': 0.06, 'compound': -0.9924}, {'neg': 0.116, 'neu': 0.818, 'pos': 0.066, 'compound': -0.9643}, {'neg': 0.147, 'neu': 0.761, 'pos': 0.092, 'compound': -0.9902}, {'neg': 0.237, 'neu': 0.716, 'pos': 0.048, 'compound': -0.9987}, {'neg': 0.174, 'neu': 0.746, 'pos': 0.08, 'compound': -0.9917}, {'neg': 0.152, 'neu': 0.782, 'pos': 0.066, 'compound': -0.9895}, {'neg': 0.22, 'neu': 0.717, 'pos': 0.063, 'compound': -0.9974}, {'neg': 0.146, 'neu': 0.826, 'pos': 0.028, 'compound': -0.9865}, {'neg': 0.277, 'neu': 0.695, 'pos': 0.028, 'compound': -0.9987}, {'neg': 0.207, 'neu': 0.742, 'pos': 0.051, 'compound': -0.9957}, {'neg': 0.191, 'neu': 0.743, 'pos': 0.067, 'compound': -0.9914}, {'neg': 0.156, 'neu': 0.792, 'pos': 0.052, 'compound': -0.9827}, {'neg': 0.172, 'neu': 0.778, 'pos': 0.05, 'compound': -0.9931}, {'neg': 0.239, 'neu': 0.725, 'pos': 0.036, 'compound': -0.9949}, {'neg': 0.183, 'neu': 0.772, 'pos': 0.045, 'compound': -0.9751}, {'neg': 0.22, 'neu': 0.728, 'pos': 0.052, 'compound': -0.9989}, {'neg': 0.138, 'neu': 0.818, 'pos': 0.044, 'compound': -0.9712}, {'neg': 0.11, 'neu': 0.758, 'pos': 0.131, 'compound': 0.5095}, {'neg': 0.072, 'neu': 0.857, 'pos': 0.071, 'compound': -0.0772}, {'neg': 0.099, 'neu': 0.782, 'pos': 0.119, 'compound': -0.0387}, {'neg': 0.291, 'neu': 0.687, 'pos': 0.022, 'compound': -0.9986}, {'neg': 0.067, 'neu': 0.804, 'pos': 0.129, 'compound': 0.9973}, {'neg': 0.124, 'neu': 0.767, 'pos': 0.108, 'compound': -0.9435}, {'neg': 0.191, 'neu': 0.694, 'pos': 0.115, 'compound': -0.9698}, {'neg': 0.119, 'neu': 0.759, 'pos': 0.121, 'compound': -0.383}, {'neg': 0.246, 'neu': 0.676, 'pos': 0.078, 'compound': -0.9169}, {'neg': 0.031, 'neu': 0.867, 'pos': 0.102, 'compound': 0.9217}, {'neg': 0.153, 'neu': 0.805, 'pos': 0.042, 'compound': -0.9779}, {'neg': 0.128, 'neu': 0.827, 'pos': 0.045, 'compound': -0.9729}, {'neg': 0.105, 'neu': 0.841, 'pos': 0.054, 'compound': -0.9723}, {'neg': 0.075, 'neu': 0.852, 'pos': 0.073, 'compound': 0.4153}, {'neg': 0.062, 'neu': 0.875, 'pos': 0.062, 'compound': 0.0516}, {'neg': 0.187, 'neu': 0.772, 'pos': 0.041, 'compound': -0.9913}, {'neg': 0.133, 'neu': 0.82, 'pos': 0.047, 'compound': -0.9661}, {'neg': 0.12, 'neu': 0.81, 'pos': 0.07, 'compound': -0.9517}, {'neg': 0.111, 'neu': 0.818, 'pos': 0.071, 'compound': -0.9369}, {'neg': 0.192, 'neu': 0.724, 'pos': 0.084, 'compound': -0.9917}, {'neg': 0.099, 'neu': 0.824, 'pos': 0.077, 'compound': -0.9274}, {'neg': 0.189, 'neu': 0.745, 'pos': 0.065, 'compound': -0.9935}, {'neg': 0.094, 'neu': 0.804, 'pos': 0.102, 'compound': 0.25}, {'neg': 0.089, 'neu': 0.83, 'pos': 0.081, 'compound': -0.4939}, {'neg': 0.115, 'neu': 0.783, 'pos': 0.101, 'compound': -0.6682}, {'neg': 0.12, 'neu': 0.813, 'pos': 0.067, 'compound': -0.9001}, {'neg': 0.164, 'neu': 0.81, 'pos': 0.027, 'compound': -0.9924}, {'neg': 0.177, 'neu': 0.788, 'pos': 0.035, 'compound': -0.9981}, {'neg': 0.145, 'neu': 0.781, 'pos': 0.074, 'compound': -0.977}, {'neg': 0.192, 'neu': 0.782, 'pos': 0.026, 'compound': -0.9973}, {'neg': 0.093, 'neu': 0.818, 'pos': 0.089, 'compound': -0.2263}, {'neg': 0.164, 'neu': 0.769, 'pos': 0.066, 'compound': -0.9846}, {'neg': 0.142, 'neu': 0.801, 'pos': 0.058, 'compound': -0.9702}, {'neg': 0.18, 'neu': 0.767, 'pos': 0.053, 'compound': -0.9776}, {'neg': 0.117, 'neu': 0.82, 'pos': 0.063, 'compound': -0.9893}, {'neg': 0.135, 'neu': 0.799, 'pos': 0.065, 'compound': -0.9859}, {'neg': 0.144, 'neu': 0.822, 'pos': 0.034, 'compound': -0.9729}, {'neg': 0.126, 'neu': 0.753, 'pos': 0.121, 'compound': -0.6041}, {'neg': 0.108, 'neu': 0.804, 'pos': 0.088, 'compound': -0.9661}, {'neg': 0.206, 'neu': 0.76, 'pos': 0.035, 'compound': -0.9859}, {'neg': 0.12, 'neu': 0.818, 'pos': 0.062, 'compound': -0.93}, {'neg': 0.006, 'neu': 0.826, 'pos': 0.168, 'compound': 0.9914}, {'neg': 0.116, 'neu': 0.846, 'pos': 0.038, 'compound': -0.9423}, {'neg': 0.089, 'neu': 0.844, 'pos': 0.067, 'compound': -0.927}, {'neg': 0.086, 'neu': 0.852, 'pos': 0.063, 'compound': -0.6085}, {'neg': 0.102, 'neu': 0.836, 'pos': 0.062, 'compound': -0.91}, {'neg': 0.062, 'neu': 0.842, 'pos': 0.096, 'compound': 0.836}, {'neg': 0.077, 'neu': 0.897, 'pos': 0.025, 'compound': -0.9709}, {'neg': 0.075, 'neu': 0.837, 'pos': 0.088, 'compound': 0.5574}, {'neg': 0.131, 'neu': 0.81, 'pos': 0.059, 'compound': -0.9643}, {'neg': 0.149, 'neu': 0.786, 'pos': 0.066, 'compound': -0.9371}, {'neg': 0.05, 'neu': 0.842, 'pos': 0.108, 'compound': 0.9689}, {'neg': 0.078, 'neu': 0.839, 'pos': 0.083, 'compound': 0.3195}, {'neg': 0.035, 'neu': 0.875, 'pos': 0.09, 'compound': 0.9678}, {'neg': 0.093, 'neu': 0.825, 'pos': 0.082, 'compound': -0.7184}, {'neg': 0.116, 'neu': 0.758, 'pos': 0.126, 'compound': 0.296}, {'neg': 0.063, 'neu': 0.86, 'pos': 0.077, 'compound': 0.6745}, {'neg': 0.122, 'neu': 0.793, 'pos': 0.085, 'compound': -0.9811}, {'neg': 0.01, 'neu': 0.806, 'pos': 0.184, 'compound': 0.997}, {'neg': 0.022, 'neu': 0.861, 'pos': 0.117, 'compound': 0.996}, {'neg': 0.022, 'neu': 0.877, 'pos': 0.101, 'compound': 0.987}, {'neg': 0.168, 'neu': 0.759, 'pos': 0.073, 'compound': -0.9854}, {'neg': 0.219, 'neu': 0.722, 'pos': 0.059, 'compound': -0.9956}, {'neg': 0.182, 'neu': 0.753, 'pos': 0.065, 'compound': -0.9836}, {'neg': 0.154, 'neu': 0.783, 'pos': 0.064, 'compound': -0.9876}, {'neg': 0.164, 'neu': 0.763, 'pos': 0.073, 'compound': -0.9833}, {'neg': 0.169, 'neu': 0.724, 'pos': 0.107, 'compound': -0.9515}, {'neg': 0.083, 'neu': 0.829, 'pos': 0.088, 'compound': 0.1007}, {'neg': 0.117, 'neu': 0.819, 'pos': 0.064, 'compound': -0.993}, {'neg': 0.09, 'neu': 0.822, 'pos': 0.089, 'compound': -0.7684}, {'neg': 0.064, 'neu': 0.814, 'pos': 0.122, 'compound': 0.992}, {'neg': 0.018, 'neu': 0.933, 'pos': 0.049, 'compound': 0.871}, {'neg': 0.085, 'neu': 0.803, 'pos': 0.112, 'compound': 0.9538}, {'neg': 0.138, 'neu': 0.809, 'pos': 0.054, 'compound': -0.9919}, {'neg': 0.15, 'neu': 0.778, 'pos': 0.073, 'compound': -0.9931}, {'neg': 0.118, 'neu': 0.798, 'pos': 0.084, 'compound': -0.9902}, {'neg': 0.118, 'neu': 0.832, 'pos': 0.05, 'compound': -0.9996}, {'neg': 0.117, 'neu': 0.804, 'pos': 0.079, 'compound': -0.984}, {'neg': 0.173, 'neu': 0.793, 'pos': 0.033, 'compound': -0.9962}, {'neg': 0.084, 'neu': 0.874, 'pos': 0.041, 'compound': -0.9977}, {'neg': 0.179, 'neu': 0.73, 'pos': 0.091, 'compound': -0.9966}, {'neg': 0.136, 'neu': 0.82, 'pos': 0.044, 'compound': -0.9817}, {'neg': 0.146, 'neu': 0.813, 'pos': 0.04, 'compound': -0.9824}, {'neg': 0.117, 'neu': 0.787, 'pos': 0.096, 'compound': -0.907}, {'neg': 0.088, 'neu': 0.802, 'pos': 0.11, 'compound': 0.6823}, {'neg': 0.186, 'neu': 0.762, 'pos': 0.053, 'compound': -0.9872}, {'neg': 0.128, 'neu': 0.791, 'pos': 0.081, 'compound': -0.9738}, {'neg': 0.253, 'neu': 0.665, 'pos': 0.083, 'compound': -0.9974}, {'neg': 0.194, 'neu': 0.727, 'pos': 0.079, 'compound': -0.994}, {'neg': 0.107, 'neu': 0.835, 'pos': 0.058, 'compound': -0.9653}, {'neg': 0.116, 'neu': 0.776, 'pos': 0.108, 'compound': -0.7351}, {'neg': 0.094, 'neu': 0.83, 'pos': 0.076, 'compound': -0.6808}, {'neg': 0.123, 'neu': 0.79, 'pos': 0.088, 'compound': -0.9934}, {'neg': 0.215, 'neu': 0.702, 'pos': 0.083, 'compound': -0.9938}, {'neg': 0.159, 'neu': 0.8, 'pos': 0.041, 'compound': -0.9943}, {'neg': 0.148, 'neu': 0.807, 'pos': 0.045, 'compound': -0.9816}, {'neg': 0.085, 'neu': 0.846, 'pos': 0.07, 'compound': -0.6249}, {'neg': 0.159, 'neu': 0.786, 'pos': 0.055, 'compound': -0.9964}, {'neg': 0.167, 'neu': 0.805, 'pos': 0.028, 'compound': -0.9982}, {'neg': 0.125, 'neu': 0.808, 'pos': 0.067, 'compound': -0.9579}, {'neg': 0.138, 'neu': 0.765, 'pos': 0.097, 'compound': -0.9401}, {'neg': 0.118, 'neu': 0.778, 'pos': 0.104, 'compound': -0.9008}, {'neg': 0.14, 'neu': 0.771, 'pos': 0.089, 'compound': -0.957}, {'neg': 0.098, 'neu': 0.849, 'pos': 0.053, 'compound': -0.93}, {'neg': 0.138, 'neu': 0.785, 'pos': 0.077, 'compound': -0.9524}, {'neg': 0.232, 'neu': 0.738, 'pos': 0.03, 'compound': -0.9889}, {'neg': 0.159, 'neu': 0.797, 'pos': 0.044, 'compound': -0.9865}, {'neg': 0.147, 'neu': 0.775, 'pos': 0.078, 'compound': -0.9809}, {'neg': 0.127, 'neu': 0.769, 'pos': 0.104, 'compound': -0.8248}, {'neg': 0.138, 'neu': 0.769, 'pos': 0.093, 'compound': -0.9267}, {'neg': 0.184, 'neu': 0.745, 'pos': 0.071, 'compound': -0.9627}, {'neg': 0.139, 'neu': 0.804, 'pos': 0.058, 'compound': -0.9921}, {'neg': 0.172, 'neu': 0.796, 'pos': 0.031, 'compound': -0.9815}, {'neg': 0.166, 'neu': 0.801, 'pos': 0.033, 'compound': -0.998}, {'neg': 0.108, 'neu': 0.811, 'pos': 0.081, 'compound': -0.8462}, {'neg': 0.071, 'neu': 0.882, 'pos': 0.047, 'compound': -0.9062}, {'neg': 0.086, 'neu': 0.83, 'pos': 0.083, 'compound': -0.4404}, {'neg': 0.12, 'neu': 0.828, 'pos': 0.053, 'compound': -0.9772}, {'neg': 0.099, 'neu': 0.818, 'pos': 0.083, 'compound': -0.7096}, {'neg': 0.096, 'neu': 0.825, 'pos': 0.079, 'compound': -0.7845}, {'neg': 0.206, 'neu': 0.724, 'pos': 0.07, 'compound': -0.9969}, {'neg': 0.112, 'neu': 0.842, 'pos': 0.046, 'compound': -0.9743}, {'neg': 0.112, 'neu': 0.81, 'pos': 0.079, 'compound': -0.8316}, {'neg': 0.134, 'neu': 0.817, 'pos': 0.048, 'compound': -0.986}, {'neg': 0.133, 'neu': 0.789, 'pos': 0.078, 'compound': -0.9444}, {'neg': 0.122, 'neu': 0.829, 'pos': 0.049, 'compound': -0.9871}, {'neg': 0.142, 'neu': 0.789, 'pos': 0.069, 'compound': -0.9898}, {'neg': 0.193, 'neu': 0.771, 'pos': 0.036, 'compound': -0.9956}, {'neg': 0.105, 'neu': 0.872, 'pos': 0.023, 'compound': -0.9836}, {'neg': 0.103, 'neu': 0.833, 'pos': 0.063, 'compound': -0.8402}, {'neg': 0.09, 'neu': 0.838, 'pos': 0.071, 'compound': -0.7813}, {'neg': 0.16, 'neu': 0.751, 'pos': 0.089, 'compound': -0.9905}, {'neg': 0.116, 'neu': 0.823, 'pos': 0.061, 'compound': -0.9698}, {'neg': 0.093, 'neu': 0.832, 'pos': 0.074, 'compound': -0.7085}, {'neg': 0.126, 'neu': 0.759, 'pos': 0.115, 'compound': -0.3291}, {'neg': 0.114, 'neu': 0.761, 'pos': 0.125, 'compound': 0.5994}, {'neg': 0.13, 'neu': 0.8, 'pos': 0.07, 'compound': -0.9477}, {'neg': 0.092, 'neu': 0.829, 'pos': 0.079, 'compound': -0.802}, {'neg': 0.157, 'neu': 0.807, 'pos': 0.037, 'compound': -0.9873}, {'neg': 0.108, 'neu': 0.853, 'pos': 0.039, 'compound': -0.9477}, {'neg': 0.17, 'neu': 0.739, 'pos': 0.091, 'compound': -0.9947}, {'neg': 0.136, 'neu': 0.811, 'pos': 0.054, 'compound': -0.9931}, {'neg': 0.086, 'neu': 0.852, 'pos': 0.062, 'compound': -0.8121}, {'neg': 0.164, 'neu': 0.791, 'pos': 0.045, 'compound': -0.9666}, {'neg': 0.181, 'neu': 0.775, 'pos': 0.044, 'compound': -0.9953}, {'neg': 0.118, 'neu': 0.786, 'pos': 0.096, 'compound': -0.5994}, {'neg': 0.109, 'neu': 0.822, 'pos': 0.069, 'compound': -0.9141}, {'neg': 0.175, 'neu': 0.741, 'pos': 0.084, 'compound': -0.9913}, {'neg': 0.083, 'neu': 0.857, 'pos': 0.059, 'compound': -0.9341}, {'neg': 0.144, 'neu': 0.78, 'pos': 0.076, 'compound': -0.9499}, {'neg': 0.082, 'neu': 0.788, 'pos': 0.13, 'compound': 0.9904}, {'neg': 0.162, 'neu': 0.797, 'pos': 0.041, 'compound': -0.9917}, {'neg': 0.115, 'neu': 0.838, 'pos': 0.047, 'compound': -0.9869}, {'neg': 0.179, 'neu': 0.78, 'pos': 0.041, 'compound': -0.985}, {'neg': 0.155, 'neu': 0.802, 'pos': 0.043, 'compound': -0.9955}, {'neg': 0.153, 'neu': 0.786, 'pos': 0.061, 'compound': -0.9975}, {'neg': 0.176, 'neu': 0.786, 'pos': 0.039, 'compound': -0.9878}, {'neg': 0.098, 'neu': 0.834, 'pos': 0.068, 'compound': -0.9712}, {'neg': 0.111, 'neu': 0.823, 'pos': 0.066, 'compound': -0.9872}, {'neg': 0.14, 'neu': 0.79, 'pos': 0.07, 'compound': -0.9958}, {'neg': 0.204, 'neu': 0.727, 'pos': 0.068, 'compound': -0.9989}, {'neg': 0.156, 'neu': 0.782, 'pos': 0.062, 'compound': -0.9973}, {'neg': 0.169, 'neu': 0.79, 'pos': 0.041, 'compound': -0.994}, {'neg': 0.12, 'neu': 0.789, 'pos': 0.091, 'compound': -0.9355}, {'neg': 0.131, 'neu': 0.817, 'pos': 0.052, 'compound': -0.9845}, {'neg': 0.08, 'neu': 0.824, 'pos': 0.095, 'compound': 0.1531}, {'neg': 0.081, 'neu': 0.836, 'pos': 0.084, 'compound': -0.2263}, {'neg': 0.2, 'neu': 0.717, 'pos': 0.084, 'compound': -0.9913}, {'neg': 0.102, 'neu': 0.858, 'pos': 0.04, 'compound': -0.9201}, {'neg': 0.107, 'neu': 0.831, 'pos': 0.062, 'compound': -0.9403}, {'neg': 0.088, 'neu': 0.831, 'pos': 0.081, 'compound': -0.5994}, {'neg': 0.096, 'neu': 0.864, 'pos': 0.04, 'compound': -0.9552}, {'neg': 0.085, 'neu': 0.844, 'pos': 0.07, 'compound': -0.8625}, {'neg': 0.135, 'neu': 0.802, 'pos': 0.064, 'compound': -0.9732}, {'neg': 0.147, 'neu': 0.751, 'pos': 0.102, 'compound': -0.9509}, {'neg': 0.195, 'neu': 0.761, 'pos': 0.044, 'compound': -0.9963}, {'neg': 0.151, 'neu': 0.763, 'pos': 0.086, 'compound': -0.9795}, {'neg': 0.176, 'neu': 0.77, 'pos': 0.054, 'compound': -0.9981}, {'neg': 0.143, 'neu': 0.782, 'pos': 0.076, 'compound': -0.9898}, {'neg': 0.187, 'neu': 0.742, 'pos': 0.071, 'compound': -0.9983}, {'neg': 0.204, 'neu': 0.745, 'pos': 0.051, 'compound': -0.9885}, {'neg': 0.2, 'neu': 0.703, 'pos': 0.097, 'compound': -0.996}, {'neg': 0.218, 'neu': 0.738, 'pos': 0.044, 'compound': -0.9974}, {'neg': 0.259, 'neu': 0.702, 'pos': 0.039, 'compound': -0.9985}, {'neg': 0.153, 'neu': 0.776, 'pos': 0.071, 'compound': -0.9888}, {'neg': 0.116, 'neu': 0.803, 'pos': 0.081, 'compound': -0.9434}, {'neg': 0.09, 'neu': 0.838, 'pos': 0.071, 'compound': -0.8481}, {'neg': 0.089, 'neu': 0.829, 'pos': 0.082, 'compound': -0.296}, {'neg': 0.176, 'neu': 0.819, 'pos': 0.005, 'compound': -0.9955}, {'neg': 0.076, 'neu': 0.803, 'pos': 0.121, 'compound': 0.9604}, {'neg': 0.227, 'neu': 0.738, 'pos': 0.035, 'compound': -0.9961}, {'neg': 0.209, 'neu': 0.763, 'pos': 0.028, 'compound': -0.9905}, {'neg': 0.214, 'neu': 0.703, 'pos': 0.083, 'compound': -0.9906}, {'neg': 0.2, 'neu': 0.729, 'pos': 0.071, 'compound': -0.9871}, {'neg': 0.176, 'neu': 0.798, 'pos': 0.026, 'compound': -0.9921}, {'neg': 0.172, 'neu': 0.802, 'pos': 0.026, 'compound': -0.9906}, {'neg': 0.21, 'neu': 0.747, 'pos': 0.043, 'compound': -0.9917}, {'neg': 0.116, 'neu': 0.824, 'pos': 0.061, 'compound': -0.9432}, {'neg': 0.147, 'neu': 0.787, 'pos': 0.066, 'compound': -0.9844}, {'neg': 0.086, 'neu': 0.843, 'pos': 0.07, 'compound': -0.5859}, {'neg': 0.177, 'neu': 0.779, 'pos': 0.044, 'compound': -0.9623}, {'neg': 0.215, 'neu': 0.758, 'pos': 0.028, 'compound': -0.9943}, {'neg': 0.151, 'neu': 0.723, 'pos': 0.126, 'compound': -0.9568}, {'neg': 0.103, 'neu': 0.802, 'pos': 0.095, 'compound': -0.4817}, {'neg': 0.136, 'neu': 0.754, 'pos': 0.11, 'compound': -0.8528}, {'neg': 0.114, 'neu': 0.823, 'pos': 0.063, 'compound': -0.9001}, {'neg': 0.217, 'neu': 0.751, 'pos': 0.032, 'compound': -0.9944}, {'neg': 0.109, 'neu': 0.813, 'pos': 0.078, 'compound': -0.9803}, {'neg': 0.151, 'neu': 0.776, 'pos': 0.073, 'compound': -0.9477}, {'neg': 0.176, 'neu': 0.752, 'pos': 0.072, 'compound': -0.9957}, {'neg': 0.164, 'neu': 0.769, 'pos': 0.067, 'compound': -0.9981}, {'neg': 0.186, 'neu': 0.751, 'pos': 0.063, 'compound': -0.9945}, {'neg': 0.155, 'neu': 0.783, 'pos': 0.062, 'compound': -0.9833}, {'neg': 0.176, 'neu': 0.745, 'pos': 0.08, 'compound': -0.997}, {'neg': 0.032, 'neu': 0.84, 'pos': 0.128, 'compound': 0.9949}, {'neg': 0.062, 'neu': 0.79, 'pos': 0.148, 'compound': 0.9899}, {'neg': 0.038, 'neu': 0.852, 'pos': 0.109, 'compound': 0.9863}, {'neg': 0.047, 'neu': 0.79, 'pos': 0.163, 'compound': 0.9934}, {'neg': 0.064, 'neu': 0.842, 'pos': 0.094, 'compound': 0.9314}, {'neg': 0.055, 'neu': 0.884, 'pos': 0.06, 'compound': 0.2023}, {'neg': 0.079, 'neu': 0.8, 'pos': 0.122, 'compound': 0.9941}, {'neg': 0.052, 'neu': 0.842, 'pos': 0.106, 'compound': 0.9959}, {'neg': 0.066, 'neu': 0.816, 'pos': 0.118, 'compound': 0.9745}, {'neg': 0.018, 'neu': 0.873, 'pos': 0.109, 'compound': 0.988}, {'neg': 0.055, 'neu': 0.834, 'pos': 0.11, 'compound': 0.9709}, {'neg': 0.059, 'neu': 0.839, 'pos': 0.102, 'compound': 0.9531}, {'neg': 0.028, 'neu': 0.892, 'pos': 0.08, 'compound': 0.9699}, {'neg': 0.053, 'neu': 0.853, 'pos': 0.094, 'compound': 0.9868}, {'neg': 0.05, 'neu': 0.835, 'pos': 0.115, 'compound': 0.9972}, {'neg': 0.059, 'neu': 0.871, 'pos': 0.07, 'compound': 0.1779}, {'neg': 0.038, 'neu': 0.801, 'pos': 0.161, 'compound': 0.9971}, {'neg': 0.101, 'neu': 0.818, 'pos': 0.081, 'compound': -0.8431}, {'neg': 0.026, 'neu': 0.895, 'pos': 0.079, 'compound': 0.991}, {'neg': 0.012, 'neu': 0.812, 'pos': 0.176, 'compound': 0.9936}, {'neg': 0.128, 'neu': 0.753, 'pos': 0.119, 'compound': -0.9097}, {'neg': 0.074, 'neu': 0.883, 'pos': 0.044, 'compound': -0.8591}, {'neg': 0.056, 'neu': 0.822, 'pos': 0.122, 'compound': 0.9896}, {'neg': 0.084, 'neu': 0.837, 'pos': 0.079, 'compound': -0.3612}, {'neg': 0.006, 'neu': 0.81, 'pos': 0.184, 'compound': 0.9946}, {'neg': 0.095, 'neu': 0.727, 'pos': 0.178, 'compound': 0.9853}, {'neg': 0.111, 'neu': 0.827, 'pos': 0.062, 'compound': -0.9672}, {'neg': 0.14, 'neu': 0.79, 'pos': 0.07, 'compound': -0.9935}, {'neg': 0.071, 'neu': 0.863, 'pos': 0.065, 'compound': -0.7705}, {'neg': 0.082, 'neu': 0.851, 'pos': 0.067, 'compound': -0.9109}, {'neg': 0.148, 'neu': 0.779, 'pos': 0.073, 'compound': -0.996}, {'neg': 0.07, 'neu': 0.872, 'pos': 0.057, 'compound': -0.5831}, {'neg': 0.075, 'neu': 0.868, 'pos': 0.056, 'compound': -0.4588}, {'neg': 0.096, 'neu': 0.848, 'pos': 0.056, 'compound': -0.9322}, {'neg': 0.089, 'neu': 0.8, 'pos': 0.111, 'compound': 0.8531}, {'neg': 0.071, 'neu': 0.846, 'pos': 0.083, 'compound': 0.6883}, {'neg': 0.084, 'neu': 0.819, 'pos': 0.097, 'compound': 0.5641}, {'neg': 0.073, 'neu': 0.884, 'pos': 0.043, 'compound': -0.745}, {'neg': 0.063, 'neu': 0.904, 'pos': 0.033, 'compound': -0.9423}, {'neg': 0.128, 'neu': 0.77, 'pos': 0.102, 'compound': -0.9633}, {'neg': 0.107, 'neu': 0.837, 'pos': 0.057, 'compound': -0.9805}, {'neg': 0.146, 'neu': 0.81, 'pos': 0.044, 'compound': -0.9884}, {'neg': 0.17, 'neu': 0.774, 'pos': 0.056, 'compound': -0.9959}, {'neg': 0.154, 'neu': 0.789, 'pos': 0.057, 'compound': -0.9934}, {'neg': 0.173, 'neu': 0.758, 'pos': 0.069, 'compound': -0.9886}, {'neg': 0.04, 'neu': 0.898, 'pos': 0.062, 'compound': 0.8428}, {'neg': 0.083, 'neu': 0.838, 'pos': 0.079, 'compound': -0.3167}, {'neg': 0.067, 'neu': 0.852, 'pos': 0.081, 'compound': 0.6124}, {'neg': 0.073, 'neu': 0.788, 'pos': 0.139, 'compound': 0.9641}, {'neg': 0.073, 'neu': 0.836, 'pos': 0.091, 'compound': 0.82}, {'neg': 0.045, 'neu': 0.846, 'pos': 0.108, 'compound': 0.9812}, {'neg': 0.092, 'neu': 0.804, 'pos': 0.105, 'compound': 0.6993}, {'neg': 0.087, 'neu': 0.804, 'pos': 0.108, 'compound': 0.8472}, {'neg': 0.039, 'neu': 0.895, 'pos': 0.065, 'compound': 0.9378}, {'neg': 0.072, 'neu': 0.822, 'pos': 0.107, 'compound': 0.9411}, {'neg': 0.095, 'neu': 0.833, 'pos': 0.073, 'compound': -0.7887}, {'neg': 0.041, 'neu': 0.874, 'pos': 0.085, 'compound': 0.9337}, {'neg': 0.027, 'neu': 0.93, 'pos': 0.043, 'compound': 0.7798}, {'neg': 0.091, 'neu': 0.859, 'pos': 0.05, 'compound': -0.9869}, {'neg': 0.079, 'neu': 0.858, 'pos': 0.063, 'compound': -0.8381}, {'neg': 0.06, 'neu': 0.89, 'pos': 0.049, 'compound': -0.5267}, {'neg': 0.085, 'neu': 0.873, 'pos': 0.042, 'compound': -0.9607}, {'neg': 0.124, 'neu': 0.798, 'pos': 0.078, 'compound': -0.9649}, {'neg': 0.081, 'neu': 0.787, 'pos': 0.133, 'compound': 0.9433}, {'neg': 0.036, 'neu': 0.88, 'pos': 0.084, 'compound': 0.9728}, {'neg': 0.046, 'neu': 0.867, 'pos': 0.088, 'compound': 0.9657}, {'neg': 0.078, 'neu': 0.811, 'pos': 0.111, 'compound': 0.9786}, {'neg': 0.048, 'neu': 0.796, 'pos': 0.156, 'compound': 0.9972}, {'neg': 0.021, 'neu': 0.771, 'pos': 0.208, 'compound': 0.997}, {'neg': 0.046, 'neu': 0.8, 'pos': 0.154, 'compound': 0.9942}, {'neg': 0.068, 'neu': 0.831, 'pos': 0.101, 'compound': 0.891}, {'neg': 0.02, 'neu': 0.811, 'pos': 0.169, 'compound': 0.9942}, {'neg': 0.005, 'neu': 0.905, 'pos': 0.09, 'compound': 0.9884}, {'neg': 0.01, 'neu': 0.826, 'pos': 0.164, 'compound': 0.9971}, {'neg': 0.005, 'neu': 0.815, 'pos': 0.179, 'compound': 0.9969}, {'neg': 0.056, 'neu': 0.83, 'pos': 0.113, 'compound': 0.9712}, {'neg': 0.047, 'neu': 0.856, 'pos': 0.097, 'compound': 0.9743}, {'neg': 0.007, 'neu': 0.838, 'pos': 0.154, 'compound': 0.9912}, {'neg': 0.025, 'neu': 0.836, 'pos': 0.139, 'compound': 0.9893}, {'neg': 0.0, 'neu': 0.827, 'pos': 0.173, 'compound': 0.9864}, {'neg': 0.013, 'neu': 0.839, 'pos': 0.148, 'compound': 0.9883}, {'neg': 0.043, 'neu': 0.851, 'pos': 0.105, 'compound': 0.9862}, {'neg': 0.119, 'neu': 0.728, 'pos': 0.153, 'compound': 0.8459}, {'neg': 0.068, 'neu': 0.762, 'pos': 0.171, 'compound': 0.9921}, {'neg': 0.037, 'neu': 0.809, 'pos': 0.154, 'compound': 0.9977}, {'neg': 0.033, 'neu': 0.855, 'pos': 0.112, 'compound': 0.9962}, {'neg': 0.025, 'neu': 0.881, 'pos': 0.095, 'compound': 0.9944}, {'neg': 0.115, 'neu': 0.729, 'pos': 0.156, 'compound': 0.705}, {'neg': 0.019, 'neu': 0.823, 'pos': 0.158, 'compound': 0.9881}, {'neg': 0.07, 'neu': 0.804, 'pos': 0.126, 'compound': 0.989}, {'neg': 0.062, 'neu': 0.792, 'pos': 0.146, 'compound': 0.9941}, {'neg': 0.021, 'neu': 0.808, 'pos': 0.171, 'compound': 0.9941}, {'neg': 0.035, 'neu': 0.871, 'pos': 0.094, 'compound': 0.9559}, {'neg': 0.097, 'neu': 0.813, 'pos': 0.091, 'compound': -0.9678}, {'neg': 0.071, 'neu': 0.827, 'pos': 0.102, 'compound': 0.9601}, {'neg': 0.058, 'neu': 0.781, 'pos': 0.161, 'compound': 0.9938}, {'neg': 0.006, 'neu': 0.844, 'pos': 0.151, 'compound': 0.9944}, {'neg': 0.049, 'neu': 0.815, 'pos': 0.136, 'compound': 0.9947}, {'neg': 0.12, 'neu': 0.692, 'pos': 0.187, 'compound': 0.99}, {'neg': 0.058, 'neu': 0.839, 'pos': 0.103, 'compound': 0.9724}, {'neg': 0.125, 'neu': 0.761, 'pos': 0.114, 'compound': -0.9349}, {'neg': 0.0, 'neu': 0.871, 'pos': 0.129, 'compound': 0.9806}, {'neg': 0.025, 'neu': 0.87, 'pos': 0.105, 'compound': 0.9853}, {'neg': 0.042, 'neu': 0.855, 'pos': 0.103, 'compound': 0.9649}, {'neg': 0.031, 'neu': 0.896, 'pos': 0.073, 'compound': 0.9118}, {'neg': 0.006, 'neu': 0.947, 'pos': 0.047, 'compound': 0.9538}, {'neg': 0.082, 'neu': 0.88, 'pos': 0.038, 'compound': -0.9371}, {'neg': 0.124, 'neu': 0.788, 'pos': 0.088, 'compound': -0.9635}, {'neg': 0.085, 'neu': 0.777, 'pos': 0.138, 'compound': 0.8885}, {'neg': 0.067, 'neu': 0.855, 'pos': 0.078, 'compound': 0.5423}, {'neg': 0.054, 'neu': 0.849, 'pos': 0.097, 'compound': 0.9643}, {'neg': 0.026, 'neu': 0.861, 'pos': 0.112, 'compound': 0.9844}, {'neg': 0.07, 'neu': 0.882, 'pos': 0.048, 'compound': -0.8662}, {'neg': 0.082, 'neu': 0.856, 'pos': 0.062, 'compound': -0.8658}, {'neg': 0.043, 'neu': 0.823, 'pos': 0.133, 'compound': 0.9842}, {'neg': 0.059, 'neu': 0.862, 'pos': 0.08, 'compound': 0.0161}, {'neg': 0.052, 'neu': 0.82, 'pos': 0.128, 'compound': 0.986}, {'neg': 0.037, 'neu': 0.887, 'pos': 0.076, 'compound': 0.9648}, {'neg': 0.079, 'neu': 0.84, 'pos': 0.081, 'compound': 0.1779}, {'neg': 0.05, 'neu': 0.828, 'pos': 0.122, 'compound': 0.9915}, {'neg': 0.012, 'neu': 0.846, 'pos': 0.141, 'compound': 0.9894}, {'neg': 0.084, 'neu': 0.84, 'pos': 0.075, 'compound': -0.6197}, {'neg': 0.097, 'neu': 0.815, 'pos': 0.088, 'compound': -0.2023}, {'neg': 0.085, 'neu': 0.867, 'pos': 0.048, 'compound': -0.9277}, {'neg': 0.05, 'neu': 0.88, 'pos': 0.07, 'compound': 0.886}, {'neg': 0.047, 'neu': 0.89, 'pos': 0.064, 'compound': 0.9042}, {'neg': 0.036, 'neu': 0.828, 'pos': 0.137, 'compound': 0.988}, {'neg': 0.051, 'neu': 0.908, 'pos': 0.041, 'compound': -0.5106}, {'neg': 0.061, 'neu': 0.898, 'pos': 0.041, 'compound': -0.8735}, {'neg': 0.048, 'neu': 0.893, 'pos': 0.059, 'compound': 0.4981}, {'neg': 0.069, 'neu': 0.869, 'pos': 0.062, 'compound': -0.5423}, {'neg': 0.055, 'neu': 0.884, 'pos': 0.061, 'compound': 0.1485}, {'neg': 0.084, 'neu': 0.84, 'pos': 0.076, 'compound': -0.5608}, {'neg': 0.084, 'neu': 0.862, 'pos': 0.054, 'compound': -0.891}, {'neg': 0.079, 'neu': 0.836, 'pos': 0.084, 'compound': 0.09}, {'neg': 0.069, 'neu': 0.868, 'pos': 0.063, 'compound': -0.09}, {'neg': 0.121, 'neu': 0.788, 'pos': 0.09, 'compound': -0.8652}, {'neg': 0.014, 'neu': 0.815, 'pos': 0.171, 'compound': 0.997}, {'neg': 0.023, 'neu': 0.855, 'pos': 0.122, 'compound': 0.9698}, {'neg': 0.059, 'neu': 0.853, 'pos': 0.088, 'compound': 0.9837}, {'neg': 0.055, 'neu': 0.848, 'pos': 0.097, 'compound': 0.9649}, {'neg': 0.055, 'neu': 0.865, 'pos': 0.08, 'compound': 0.8735}, {'neg': 0.097, 'neu': 0.819, 'pos': 0.083, 'compound': -0.7248}, {'neg': 0.092, 'neu': 0.849, 'pos': 0.059, 'compound': -0.9618}, {'neg': 0.095, 'neu': 0.815, 'pos': 0.09, 'compound': -0.0933}, {'neg': 0.143, 'neu': 0.821, 'pos': 0.035, 'compound': -0.9963}, {'neg': 0.09, 'neu': 0.856, 'pos': 0.054, 'compound': -0.9531}, {'neg': 0.0, 'neu': 0.845, 'pos': 0.155, 'compound': 0.9859}, {'neg': 0.07, 'neu': 0.922, 'pos': 0.008, 'compound': -0.9753}, {'neg': 0.047, 'neu': 0.875, 'pos': 0.078, 'compound': 0.9819}, {'neg': 0.126, 'neu': 0.81, 'pos': 0.064, 'compound': -0.9806}, {'neg': 0.075, 'neu': 0.88, 'pos': 0.045, 'compound': -0.9417}, {'neg': 0.174, 'neu': 0.709, 'pos': 0.116, 'compound': -0.9945}, {'neg': 0.09, 'neu': 0.851, 'pos': 0.059, 'compound': -0.884}, {'neg': 0.072, 'neu': 0.856, 'pos': 0.072, 'compound': 0.0}, {'neg': 0.095, 'neu': 0.841, 'pos': 0.064, 'compound': -0.9585}, {'neg': 0.199, 'neu': 0.713, 'pos': 0.088, 'compound': -0.9949}, {'neg': 0.062, 'neu': 0.829, 'pos': 0.109, 'compound': 0.9648}, {'neg': 0.107, 'neu': 0.773, 'pos': 0.12, 'compound': -0.1573}, {'neg': 0.143, 'neu': 0.763, 'pos': 0.093, 'compound': -0.9446}, {'neg': 0.109, 'neu': 0.824, 'pos': 0.066, 'compound': -0.8834}, {'neg': 0.092, 'neu': 0.831, 'pos': 0.077, 'compound': -0.7269}, {'neg': 0.179, 'neu': 0.751, 'pos': 0.07, 'compound': -0.9988}, {'neg': 0.159, 'neu': 0.781, 'pos': 0.061, 'compound': -0.984}, {'neg': 0.173, 'neu': 0.78, 'pos': 0.047, 'compound': -0.9942}, {'neg': 0.099, 'neu': 0.807, 'pos': 0.093, 'compound': -0.5467}, {'neg': 0.113, 'neu': 0.807, 'pos': 0.08, 'compound': -0.955}, {'neg': 0.154, 'neu': 0.719, 'pos': 0.127, 'compound': -0.9591}, {'neg': 0.059, 'neu': 0.887, 'pos': 0.054, 'compound': -0.6858}, {'neg': 0.067, 'neu': 0.847, 'pos': 0.086, 'compound': 0.8689}, {'neg': 0.167, 'neu': 0.774, 'pos': 0.059, 'compound': -0.9928}, {'neg': 0.177, 'neu': 0.762, 'pos': 0.061, 'compound': -0.9914}, {'neg': 0.093, 'neu': 0.871, 'pos': 0.036, 'compound': -0.9726}, {'neg': 0.151, 'neu': 0.817, 'pos': 0.033, 'compound': -0.9948}, {'neg': 0.225, 'neu': 0.712, 'pos': 0.063, 'compound': -0.9981}, {'neg': 0.103, 'neu': 0.89, 'pos': 0.007, 'compound': -0.9565}, {'neg': 0.211, 'neu': 0.751, 'pos': 0.038, 'compound': -0.9865}, {'neg': 0.162, 'neu': 0.75, 'pos': 0.088, 'compound': -0.9826}, {'neg': 0.128, 'neu': 0.804, 'pos': 0.068, 'compound': -0.967}, {'neg': 0.176, 'neu': 0.749, 'pos': 0.076, 'compound': -0.9885}, {'neg': 0.167, 'neu': 0.776, 'pos': 0.056, 'compound': -0.9892}, {'neg': 0.091, 'neu': 0.829, 'pos': 0.08, 'compound': -0.5994}, {'neg': 0.128, 'neu': 0.824, 'pos': 0.048, 'compound': -0.99}, {'neg': 0.184, 'neu': 0.709, 'pos': 0.108, 'compound': -0.9769}, {'neg': 0.147, 'neu': 0.787, 'pos': 0.066, 'compound': -0.9779}, {'neg': 0.181, 'neu': 0.764, 'pos': 0.055, 'compound': -0.9744}, {'neg': 0.154, 'neu': 0.783, 'pos': 0.063, 'compound': -0.9929}, {'neg': 0.139, 'neu': 0.802, 'pos': 0.059, 'compound': -0.9705}, {'neg': 0.165, 'neu': 0.777, 'pos': 0.058, 'compound': -0.9889}, {'neg': 0.103, 'neu': 0.805, 'pos': 0.092, 'compound': -0.7096}, {'neg': 0.176, 'neu': 0.766, 'pos': 0.058, 'compound': -0.9956}, {'neg': 0.134, 'neu': 0.817, 'pos': 0.05, 'compound': -0.989}, {'neg': 0.127, 'neu': 0.83, 'pos': 0.042, 'compound': -0.9811}, {'neg': 0.187, 'neu': 0.738, 'pos': 0.074, 'compound': -0.9902}, {'neg': 0.189, 'neu': 0.763, 'pos': 0.048, 'compound': -0.9709}, {'neg': 0.165, 'neu': 0.764, 'pos': 0.071, 'compound': -0.9819}, {'neg': 0.146, 'neu': 0.776, 'pos': 0.078, 'compound': -0.9941}, {'neg': 0.203, 'neu': 0.709, 'pos': 0.089, 'compound': -0.9985}, {'neg': 0.189, 'neu': 0.783, 'pos': 0.028, 'compound': -0.991}, {'neg': 0.092, 'neu': 0.845, 'pos': 0.063, 'compound': -0.836}, {'neg': 0.07, 'neu': 0.818, 'pos': 0.112, 'compound': 0.8885}, {'neg': 0.197, 'neu': 0.716, 'pos': 0.088, 'compound': -0.9892}, {'neg': 0.148, 'neu': 0.78, 'pos': 0.072, 'compound': -0.9538}, {'neg': 0.164, 'neu': 0.723, 'pos': 0.112, 'compound': -0.9441}, {'neg': 0.095, 'neu': 0.802, 'pos': 0.104, 'compound': 0.1531}, {'neg': 0.093, 'neu': 0.831, 'pos': 0.076, 'compound': -0.5719}, {'neg': 0.124, 'neu': 0.802, 'pos': 0.073, 'compound': -0.9413}, {'neg': 0.114, 'neu': 0.784, 'pos': 0.102, 'compound': -0.7506}, {'neg': 0.114, 'neu': 0.878, 'pos': 0.008, 'compound': -0.9451}, {'neg': 0.119, 'neu': 0.803, 'pos': 0.077, 'compound': -0.8481}, {'neg': 0.143, 'neu': 0.76, 'pos': 0.097, 'compound': -0.9241}, {'neg': 0.111, 'neu': 0.826, 'pos': 0.064, 'compound': -0.9042}, {'neg': 0.119, 'neu': 0.803, 'pos': 0.078, 'compound': -0.8555}, {'neg': 0.098, 'neu': 0.817, 'pos': 0.085, 'compound': -0.7181}, {'neg': 0.089, 'neu': 0.824, 'pos': 0.087, 'compound': -0.1531}, {'neg': 0.146, 'neu': 0.775, 'pos': 0.079, 'compound': -0.995}, {'neg': 0.186, 'neu': 0.739, 'pos': 0.075, 'compound': -0.9836}, {'neg': 0.091, 'neu': 0.805, 'pos': 0.104, 'compound': 0.0552}, {'neg': 0.09, 'neu': 0.804, 'pos': 0.106, 'compound': 0.1126}, {'neg': 0.099, 'neu': 0.834, 'pos': 0.067, 'compound': -0.9201}, {'neg': 0.093, 'neu': 0.809, 'pos': 0.098, 'compound': -0.3991}, {'neg': 0.088, 'neu': 0.813, 'pos': 0.1, 'compound': 0.1813}, {'neg': 0.117, 'neu': 0.807, 'pos': 0.076, 'compound': -0.9524}, {'neg': 0.215, 'neu': 0.751, 'pos': 0.034, 'compound': -0.9887}, {'neg': 0.143, 'neu': 0.775, 'pos': 0.082, 'compound': -0.9939}, {'neg': 0.134, 'neu': 0.787, 'pos': 0.079, 'compound': -0.9821}, {'neg': 0.133, 'neu': 0.791, 'pos': 0.077, 'compound': -0.9859}, {'neg': 0.124, 'neu': 0.751, 'pos': 0.125, 'compound': -0.4404}, {'neg': 0.044, 'neu': 0.779, 'pos': 0.177, 'compound': 0.9945}, {'neg': 0.211, 'neu': 0.714, 'pos': 0.075, 'compound': -0.9884}, {'neg': 0.089, 'neu': 0.843, 'pos': 0.068, 'compound': -0.802}, {'neg': 0.126, 'neu': 0.783, 'pos': 0.092, 'compound': -0.872}, {'neg': 0.162, 'neu': 0.767, 'pos': 0.071, 'compound': -0.981}, {'neg': 0.173, 'neu': 0.717, 'pos': 0.111, 'compound': -0.9846}, {'neg': 0.146, 'neu': 0.75, 'pos': 0.104, 'compound': -0.9274}, {'neg': 0.094, 'neu': 0.838, 'pos': 0.068, 'compound': -0.8788}, {'neg': 0.188, 'neu': 0.749, 'pos': 0.064, 'compound': -0.992}, {'neg': 0.153, 'neu': 0.781, 'pos': 0.067, 'compound': -0.9727}, {'neg': 0.197, 'neu': 0.715, 'pos': 0.089, 'compound': -0.9939}, {'neg': 0.176, 'neu': 0.77, 'pos': 0.054, 'compound': -0.9938}, {'neg': 0.206, 'neu': 0.72, 'pos': 0.074, 'compound': -0.9929}, {'neg': 0.042, 'neu': 0.89, 'pos': 0.067, 'compound': 0.9186}, {'neg': 0.16, 'neu': 0.795, 'pos': 0.044, 'compound': -0.9758}, {'neg': 0.201, 'neu': 0.747, 'pos': 0.052, 'compound': -0.9985}, {'neg': 0.205, 'neu': 0.74, 'pos': 0.055, 'compound': -0.9989}, {'neg': 0.156, 'neu': 0.756, 'pos': 0.089, 'compound': -0.9822}, {'neg': 0.195, 'neu': 0.729, 'pos': 0.076, 'compound': -0.996}, {'neg': 0.171, 'neu': 0.756, 'pos': 0.073, 'compound': -0.9881}, {'neg': 0.185, 'neu': 0.718, 'pos': 0.098, 'compound': -0.9938}, {'neg': 0.156, 'neu': 0.736, 'pos': 0.109, 'compound': -0.983}, {'neg': 0.154, 'neu': 0.78, 'pos': 0.066, 'compound': -0.9905}, {'neg': 0.192, 'neu': 0.714, 'pos': 0.094, 'compound': -0.9927}, {'neg': 0.174, 'neu': 0.738, 'pos': 0.088, 'compound': -0.9902}, {'neg': 0.119, 'neu': 0.791, 'pos': 0.09, 'compound': -0.8834}, {'neg': 0.12, 'neu': 0.827, 'pos': 0.052, 'compound': -0.9595}, {'neg': 0.142, 'neu': 0.8, 'pos': 0.059, 'compound': -0.9719}, {'neg': 0.096, 'neu': 0.893, 'pos': 0.01, 'compound': -0.946}, {'neg': 0.119, 'neu': 0.82, 'pos': 0.06, 'compound': -0.9468}, {'neg': 0.122, 'neu': 0.82, 'pos': 0.058, 'compound': -0.9607}, {'neg': 0.089, 'neu': 0.853, 'pos': 0.058, 'compound': -0.7906}, {'neg': 0.127, 'neu': 0.815, 'pos': 0.058, 'compound': -0.9538}, {'neg': 0.12, 'neu': 0.805, 'pos': 0.075, 'compound': -0.8658}, {'neg': 0.111, 'neu': 0.813, 'pos': 0.077, 'compound': -0.8658}, {'neg': 0.165, 'neu': 0.774, 'pos': 0.061, 'compound': -0.9824}, {'neg': 0.185, 'neu': 0.77, 'pos': 0.045, 'compound': -0.9957}, {'neg': 0.147, 'neu': 0.774, 'pos': 0.079, 'compound': -0.9908}, {'neg': 0.192, 'neu': 0.729, 'pos': 0.079, 'compound': -0.9978}, {'neg': 0.176, 'neu': 0.73, 'pos': 0.095, 'compound': -0.9971}, {'neg': 0.233, 'neu': 0.725, 'pos': 0.043, 'compound': -0.9941}, {'neg': 0.166, 'neu': 0.8, 'pos': 0.034, 'compound': -0.9941}, {'neg': 0.156, 'neu': 0.756, 'pos': 0.088, 'compound': -0.978}, {'neg': 0.134, 'neu': 0.79, 'pos': 0.075, 'compound': -0.9432}, {'neg': 0.183, 'neu': 0.757, 'pos': 0.06, 'compound': -0.9766}, {'neg': 0.147, 'neu': 0.785, 'pos': 0.068, 'compound': -0.8225}, {'neg': 0.182, 'neu': 0.751, 'pos': 0.067, 'compound': -0.9854}, {'neg': 0.08, 'neu': 0.871, 'pos': 0.049, 'compound': -0.8809}, {'neg': 0.182, 'neu': 0.756, 'pos': 0.063, 'compound': -0.9871}, {'neg': 0.123, 'neu': 0.79, 'pos': 0.087, 'compound': -0.9736}, {'neg': 0.112, 'neu': 0.793, 'pos': 0.095, 'compound': -0.8083}, {'neg': 0.163, 'neu': 0.78, 'pos': 0.057, 'compound': -0.9902}, {'neg': 0.162, 'neu': 0.737, 'pos': 0.101, 'compound': -0.9686}, {'neg': 0.139, 'neu': 0.786, 'pos': 0.075, 'compound': -0.9967}, {'neg': 0.105, 'neu': 0.827, 'pos': 0.068, 'compound': -0.9042}, {'neg': 0.122, 'neu': 0.84, 'pos': 0.038, 'compound': -0.9833}, {'neg': 0.126, 'neu': 0.81, 'pos': 0.064, 'compound': -0.9392}, {'neg': 0.084, 'neu': 0.827, 'pos': 0.089, 'compound': 0.5233}, {'neg': 0.15, 'neu': 0.706, 'pos': 0.144, 'compound': -0.5753}, {'neg': 0.183, 'neu': 0.763, 'pos': 0.054, 'compound': -0.9908}, {'neg': 0.14, 'neu': 0.772, 'pos': 0.088, 'compound': -0.9907}, {'neg': 0.115, 'neu': 0.815, 'pos': 0.07, 'compound': -0.9042}, {'neg': 0.099, 'neu': 0.834, 'pos': 0.067, 'compound': -0.8519}, {'neg': 0.161, 'neu': 0.757, 'pos': 0.081, 'compound': -0.9923}, {'neg': 0.146, 'neu': 0.788, 'pos': 0.066, 'compound': -0.9815}, {'neg': 0.132, 'neu': 0.788, 'pos': 0.08, 'compound': -0.9231}, {'neg': 0.106, 'neu': 0.789, 'pos': 0.104, 'compound': -0.3612}, {'neg': 0.172, 'neu': 0.758, 'pos': 0.07, 'compound': -0.9468}, {'neg': 0.134, 'neu': 0.825, 'pos': 0.042, 'compound': -0.9876}, {'neg': 0.153, 'neu': 0.811, 'pos': 0.036, 'compound': -0.9924}, {'neg': 0.082, 'neu': 0.816, 'pos': 0.103, 'compound': 0.5423}, {'neg': 0.11, 'neu': 0.801, 'pos': 0.088, 'compound': -0.8957}, {'neg': 0.125, 'neu': 0.834, 'pos': 0.041, 'compound': -0.9866}, {'neg': 0.115, 'neu': 0.834, 'pos': 0.051, 'compound': -0.9803}, {'neg': 0.227, 'neu': 0.74, 'pos': 0.033, 'compound': -0.9924}, {'neg': 0.195, 'neu': 0.78, 'pos': 0.025, 'compound': -0.9935}, {'neg': 0.157, 'neu': 0.78, 'pos': 0.063, 'compound': -0.9806}, {'neg': 0.128, 'neu': 0.824, 'pos': 0.049, 'compound': -0.9891}, {'neg': 0.0, 'neu': 0.955, 'pos': 0.045, 'compound': 0.8481}, {'neg': 0.097, 'neu': 0.832, 'pos': 0.071, 'compound': -0.9274}, {'neg': 0.1, 'neu': 0.825, 'pos': 0.075, 'compound': -0.8957}, {'neg': 0.106, 'neu': 0.846, 'pos': 0.048, 'compound': -0.9632}, {'neg': 0.119, 'neu': 0.838, 'pos': 0.043, 'compound': -0.9787}, {'neg': 0.092, 'neu': 0.853, 'pos': 0.055, 'compound': -0.8834}, {'neg': 0.101, 'neu': 0.828, 'pos': 0.072, 'compound': -0.6908}, {'neg': 0.197, 'neu': 0.722, 'pos': 0.08, 'compound': -0.9966}, {'neg': 0.17, 'neu': 0.768, 'pos': 0.062, 'compound': -0.9973}, {'neg': 0.177, 'neu': 0.77, 'pos': 0.053, 'compound': -0.9888}, {'neg': 0.154, 'neu': 0.779, 'pos': 0.067, 'compound': -0.9953}, {'neg': 0.161, 'neu': 0.786, 'pos': 0.053, 'compound': -0.9847}, {'neg': 0.112, 'neu': 0.799, 'pos': 0.089, 'compound': -0.8429}, {'neg': 0.253, 'neu': 0.707, 'pos': 0.041, 'compound': -0.9956}, {'neg': 0.183, 'neu': 0.752, 'pos': 0.065, 'compound': -0.9985}, {'neg': 0.155, 'neu': 0.769, 'pos': 0.075, 'compound': -0.9977}, {'neg': 0.271, 'neu': 0.654, 'pos': 0.075, 'compound': -0.996}, {'neg': 0.26, 'neu': 0.676, 'pos': 0.065, 'compound': -0.9934}, {'neg': 0.136, 'neu': 0.806, 'pos': 0.058, 'compound': -0.9783}, {'neg': 0.173, 'neu': 0.717, 'pos': 0.11, 'compound': -0.9854}, {'neg': 0.094, 'neu': 0.84, 'pos': 0.066, 'compound': -0.9601}, {'neg': 0.095, 'neu': 0.794, 'pos': 0.111, 'compound': 0.7425}, {'neg': 0.011, 'neu': 0.881, 'pos': 0.108, 'compound': 0.9957}, {'neg': 0.019, 'neu': 0.873, 'pos': 0.109, 'compound': 0.9916}, {'neg': 0.058, 'neu': 0.917, 'pos': 0.025, 'compound': -0.7158}, {'neg': 0.129, 'neu': 0.764, 'pos': 0.107, 'compound': -0.9287}, {'neg': 0.0, 'neu': 0.898, 'pos': 0.102, 'compound': 0.7717}, {'neg': 0.0, 'neu': 0.884, 'pos': 0.116, 'compound': 0.8519}, {'neg': 0.029, 'neu': 0.749, 'pos': 0.222, 'compound': 0.9845}, {'neg': 0.073, 'neu': 0.863, 'pos': 0.064, 'compound': -0.3612}, {'neg': 0.0, 'neu': 0.945, 'pos': 0.055, 'compound': 0.7003}, {'neg': 0.205, 'neu': 0.751, 'pos': 0.044, 'compound': -0.9723}, {'neg': 0.139, 'neu': 0.775, 'pos': 0.086, 'compound': -0.9641}, {'neg': 0.146, 'neu': 0.763, 'pos': 0.091, 'compound': -0.9796}, {'neg': 0.188, 'neu': 0.754, 'pos': 0.057, 'compound': -0.9953}, {'neg': 0.023, 'neu': 0.853, 'pos': 0.124, 'compound': 0.986}, {'neg': 0.127, 'neu': 0.811, 'pos': 0.062, 'compound': -0.9747}, {'neg': 0.123, 'neu': 0.825, 'pos': 0.052, 'compound': -0.9601}, {'neg': 0.11, 'neu': 0.754, 'pos': 0.136, 'compound': 0.8443}, {'neg': 0.237, 'neu': 0.693, 'pos': 0.07, 'compound': -0.9978}, {'neg': 0.125, 'neu': 0.824, 'pos': 0.051, 'compound': -0.9784}, {'neg': 0.144, 'neu': 0.737, 'pos': 0.119, 'compound': -0.935}, {'neg': 0.16, 'neu': 0.729, 'pos': 0.111, 'compound': -0.9446}, {'neg': 0.26, 'neu': 0.68, 'pos': 0.06, 'compound': -0.9989}, {'neg': 0.23, 'neu': 0.671, 'pos': 0.099, 'compound': -0.9975}, {'neg': 0.203, 'neu': 0.747, 'pos': 0.05, 'compound': -0.9929}, {'neg': 0.171, 'neu': 0.766, 'pos': 0.063, 'compound': -0.9967}, {'neg': 0.128, 'neu': 0.819, 'pos': 0.054, 'compound': -0.9861}, {'neg': 0.126, 'neu': 0.818, 'pos': 0.056, 'compound': -0.9844}, {'neg': 0.173, 'neu': 0.747, 'pos': 0.079, 'compound': -0.9833}, {'neg': 0.18, 'neu': 0.769, 'pos': 0.051, 'compound': -0.996}, {'neg': 0.19, 'neu': 0.702, 'pos': 0.108, 'compound': -0.9931}, {'neg': 0.127, 'neu': 0.779, 'pos': 0.093, 'compound': -0.9432}, {'neg': 0.158, 'neu': 0.805, 'pos': 0.037, 'compound': -0.9839}, {'neg': 0.217, 'neu': 0.719, 'pos': 0.064, 'compound': -0.9963}, {'neg': 0.137, 'neu': 0.778, 'pos': 0.085, 'compound': -0.9623}, {'neg': 0.182, 'neu': 0.761, 'pos': 0.057, 'compound': -0.996}, {'neg': 0.117, 'neu': 0.822, 'pos': 0.062, 'compound': -0.9451}, {'neg': 0.175, 'neu': 0.799, 'pos': 0.026, 'compound': -0.9953}, {'neg': 0.123, 'neu': 0.773, 'pos': 0.104, 'compound': -0.85}, {'neg': 0.109, 'neu': 0.761, 'pos': 0.13, 'compound': 0.9325}, {'neg': 0.24, 'neu': 0.717, 'pos': 0.043, 'compound': -0.9983}, {'neg': 0.17, 'neu': 0.789, 'pos': 0.041, 'compound': -0.9652}, {'neg': 0.162, 'neu': 0.756, 'pos': 0.082, 'compound': -0.9984}, {'neg': 0.198, 'neu': 0.74, 'pos': 0.062, 'compound': -0.9994}, {'neg': 0.16, 'neu': 0.762, 'pos': 0.078, 'compound': -0.9983}, {'neg': 0.203, 'neu': 0.784, 'pos': 0.014, 'compound': -0.9961}, {'neg': 0.148, 'neu': 0.777, 'pos': 0.074, 'compound': -0.9382}, {'neg': 0.146, 'neu': 0.818, 'pos': 0.036, 'compound': -0.9847}, {'neg': 0.163, 'neu': 0.762, 'pos': 0.075, 'compound': -0.9979}, {'neg': 0.152, 'neu': 0.741, 'pos': 0.107, 'compound': -0.9472}, {'neg': 0.128, 'neu': 0.817, 'pos': 0.054, 'compound': -0.9779}, {'neg': 0.179, 'neu': 0.753, 'pos': 0.068, 'compound': -0.9965}, {'neg': 0.114, 'neu': 0.855, 'pos': 0.031, 'compound': -0.9926}, {'neg': 0.161, 'neu': 0.785, 'pos': 0.054, 'compound': -0.9836}, {'neg': 0.188, 'neu': 0.76, 'pos': 0.052, 'compound': -0.9935}, {'neg': 0.106, 'neu': 0.87, 'pos': 0.024, 'compound': -0.9393}, {'neg': 0.148, 'neu': 0.822, 'pos': 0.031, 'compound': -0.9951}, {'neg': 0.17, 'neu': 0.765, 'pos': 0.064, 'compound': -0.9886}, {'neg': 0.174, 'neu': 0.747, 'pos': 0.079, 'compound': -0.9858}, {'neg': 0.199, 'neu': 0.737, 'pos': 0.064, 'compound': -0.9947}, {'neg': 0.28, 'neu': 0.689, 'pos': 0.031, 'compound': -0.9964}, {'neg': 0.174, 'neu': 0.784, 'pos': 0.042, 'compound': -0.9652}, {'neg': 0.126, 'neu': 0.821, 'pos': 0.053, 'compound': -0.9946}, {'neg': 0.098, 'neu': 0.847, 'pos': 0.056, 'compound': -0.9708}, {'neg': 0.174, 'neu': 0.756, 'pos': 0.07, 'compound': -0.9886}, {'neg': 0.252, 'neu': 0.695, 'pos': 0.053, 'compound': -0.999}, {'neg': 0.143, 'neu': 0.764, 'pos': 0.094, 'compound': -0.9944}, {'neg': 0.112, 'neu': 0.805, 'pos': 0.083, 'compound': -0.9267}, {'neg': 0.131, 'neu': 0.788, 'pos': 0.082, 'compound': -0.9719}, {'neg': 0.22, 'neu': 0.722, 'pos': 0.059, 'compound': -0.999}, {'neg': 0.168, 'neu': 0.711, 'pos': 0.121, 'compound': -0.9943}, {'neg': 0.104, 'neu': 0.874, 'pos': 0.022, 'compound': -0.9674}, {'neg': 0.2, 'neu': 0.76, 'pos': 0.04, 'compound': -0.9933}, {'neg': 0.199, 'neu': 0.743, 'pos': 0.058, 'compound': -0.9967}, {'neg': 0.155, 'neu': 0.796, 'pos': 0.049, 'compound': -0.9988}, {'neg': 0.136, 'neu': 0.825, 'pos': 0.04, 'compound': -0.9963}, {'neg': 0.188, 'neu': 0.705, 'pos': 0.107, 'compound': -0.9834}, {'neg': 0.189, 'neu': 0.746, 'pos': 0.065, 'compound': -0.9935}, {'neg': 0.262, 'neu': 0.69, 'pos': 0.048, 'compound': -0.9967}, {'neg': 0.241, 'neu': 0.705, 'pos': 0.054, 'compound': -0.99}, {'neg': 0.202, 'neu': 0.748, 'pos': 0.05, 'compound': -0.9946}, {'neg': 0.231, 'neu': 0.705, 'pos': 0.064, 'compound': -0.9963}, {'neg': 0.143, 'neu': 0.743, 'pos': 0.114, 'compound': -0.9533}, {'neg': 0.267, 'neu': 0.698, 'pos': 0.034, 'compound': -0.9936}, {'neg': 0.136, 'neu': 0.851, 'pos': 0.013, 'compound': -0.9753}, {'neg': 0.119, 'neu': 0.779, 'pos': 0.102, 'compound': -0.8442}, {'neg': 0.121, 'neu': 0.804, 'pos': 0.076, 'compound': -0.9666}, {'neg': 0.138, 'neu': 0.773, 'pos': 0.089, 'compound': -0.9786}, {'neg': 0.18, 'neu': 0.728, 'pos': 0.093, 'compound': -0.9966}, {'neg': 0.203, 'neu': 0.733, 'pos': 0.065, 'compound': -0.9964}, {'neg': 0.176, 'neu': 0.754, 'pos': 0.07, 'compound': -0.9974}, {'neg': 0.176, 'neu': 0.764, 'pos': 0.06, 'compound': -0.9987}, {'neg': 0.219, 'neu': 0.715, 'pos': 0.066, 'compound': -0.999}, {'neg': 0.212, 'neu': 0.725, 'pos': 0.063, 'compound': -0.9991}, {'neg': 0.206, 'neu': 0.764, 'pos': 0.03, 'compound': -0.997}, {'neg': 0.136, 'neu': 0.766, 'pos': 0.099, 'compound': -0.9283}, {'neg': 0.149, 'neu': 0.776, 'pos': 0.075, 'compound': -0.9755}, {'neg': 0.194, 'neu': 0.746, 'pos': 0.059, 'compound': -0.9977}, {'neg': 0.157, 'neu': 0.776, 'pos': 0.068, 'compound': -0.991}, {'neg': 0.225, 'neu': 0.711, 'pos': 0.063, 'compound': -0.9989}, {'neg': 0.113, 'neu': 0.829, 'pos': 0.059, 'compound': -0.9716}, {'neg': 0.195, 'neu': 0.778, 'pos': 0.027, 'compound': -0.9983}, {'neg': 0.253, 'neu': 0.714, 'pos': 0.033, 'compound': -0.9984}, {'neg': 0.21, 'neu': 0.757, 'pos': 0.033, 'compound': -0.9972}, {'neg': 0.199, 'neu': 0.761, 'pos': 0.039, 'compound': -0.9921}, {'neg': 0.217, 'neu': 0.732, 'pos': 0.051, 'compound': -0.9943}, {'neg': 0.059, 'neu': 0.873, 'pos': 0.067, 'compound': 0.25}, {'neg': 0.065, 'neu': 0.839, 'pos': 0.096, 'compound': 0.8344}, {'neg': 0.05, 'neu': 0.863, 'pos': 0.087, 'compound': 0.9629}, {'neg': 0.176, 'neu': 0.758, 'pos': 0.066, 'compound': -0.9989}, {'neg': 0.162, 'neu': 0.772, 'pos': 0.065, 'compound': -0.9812}, {'neg': 0.017, 'neu': 0.86, 'pos': 0.123, 'compound': 0.9983}, {'neg': 0.028, 'neu': 0.838, 'pos': 0.134, 'compound': 0.9923}, {'neg': 0.071, 'neu': 0.846, 'pos': 0.083, 'compound': -0.0258}, {'neg': 0.079, 'neu': 0.848, 'pos': 0.073, 'compound': -0.7506}, {'neg': 0.211, 'neu': 0.71, 'pos': 0.079, 'compound': -0.999}, {'neg': 0.156, 'neu': 0.822, 'pos': 0.022, 'compound': -0.9801}, {'neg': 0.202, 'neu': 0.744, 'pos': 0.054, 'compound': -0.986}, {'neg': 0.128, 'neu': 0.837, 'pos': 0.035, 'compound': -0.9846}, {'neg': 0.173, 'neu': 0.737, 'pos': 0.09, 'compound': -0.9823}, {'neg': 0.217, 'neu': 0.721, 'pos': 0.062, 'compound': -0.9947}, {'neg': 0.205, 'neu': 0.736, 'pos': 0.059, 'compound': -0.9947}, {'neg': 0.149, 'neu': 0.779, 'pos': 0.071, 'compound': -0.9794}, {'neg': 0.068, 'neu': 0.835, 'pos': 0.097, 'compound': 0.6597}, {'neg': 0.09, 'neu': 0.859, 'pos': 0.052, 'compound': -0.8807}, {'neg': 0.091, 'neu': 0.824, 'pos': 0.086, 'compound': -0.5423}, {'neg': 0.127, 'neu': 0.801, 'pos': 0.072, 'compound': -0.9118}, {'neg': 0.079, 'neu': 0.833, 'pos': 0.088, 'compound': 0.2263}, {'neg': 0.068, 'neu': 0.855, 'pos': 0.077, 'compound': 0.7906}, {'neg': 0.087, 'neu': 0.827, 'pos': 0.086, 'compound': -0.0772}, {'neg': 0.108, 'neu': 0.804, 'pos': 0.087, 'compound': -0.9139}, {'neg': 0.104, 'neu': 0.809, 'pos': 0.087, 'compound': -0.5719}, {'neg': 0.096, 'neu': 0.798, 'pos': 0.106, 'compound': 0.4404}, {'neg': 0.079, 'neu': 0.859, 'pos': 0.062, 'compound': -0.8391}, {'neg': 0.054, 'neu': 0.882, 'pos': 0.064, 'compound': 0.2263}, {'neg': 0.06, 'neu': 0.879, 'pos': 0.061, 'compound': 0.0516}, {'neg': 0.215, 'neu': 0.715, 'pos': 0.07, 'compound': -0.9933}, {'neg': 0.225, 'neu': 0.721, 'pos': 0.055, 'compound': -0.9898}, {'neg': 0.168, 'neu': 0.755, 'pos': 0.077, 'compound': -0.9966}, {'neg': 0.172, 'neu': 0.782, 'pos': 0.045, 'compound': -0.9941}, {'neg': 0.158, 'neu': 0.786, 'pos': 0.056, 'compound': -0.9787}, {'neg': 0.078, 'neu': 0.83, 'pos': 0.092, 'compound': 0.5267}, {'neg': 0.149, 'neu': 0.767, 'pos': 0.084, 'compound': -0.9648}, {'neg': 0.132, 'neu': 0.783, 'pos': 0.085, 'compound': -0.9866}, {'neg': 0.144, 'neu': 0.826, 'pos': 0.03, 'compound': -0.9938}]\n"
     ]
    }
   ],
   "source": []
  },
  {
   "cell_type": "markdown",
   "metadata": {},
   "source": [
    "C. Add the four sentiment scores to the `doj_subset` dataframe to create a dataframe: `doj_subset_wscore`. Sort from highest neg to lowest neg score and print the top `id`, `contents`, and `neg` columns of the two most neg press releases. \n",
    "\n",
    "Notes:\n",
    "\n",
    "- Don't worry if your sentiment score differs slightly from our output on GitHub; differences in preprocessing can lead to diff scores"
   ]
  },
  {
   "cell_type": "code",
   "execution_count": 18,
   "metadata": {},
   "outputs": [],
   "source": [
    "#text_scores = [function(text) for text in doj_subset[\"contents\"]]\n",
    "doj_subset['sentiment_scores'] = doj_subset['contents'].apply(function)"
   ]
  },
  {
   "cell_type": "code",
   "execution_count": 19,
   "metadata": {},
   "outputs": [
    {
     "name": "stdout",
     "output_type": "stream",
     "text": [
      "          id  \\\n",
      "568   17-379   \n",
      "513  11-1275   \n",
      "\n",
      "                                                                                                                                                                                                                                                                                                                                                                                                                                                                                                                                                                                                                                                                                                                                                                                                                                                                                                                                                                                                                                                                                                                                                                                                                                                                                                                                                                                                                                                                                                                                                                                                                                                                                                                                                                                                                                                                                                                                                                                                                                                                                                                                                                                                                                                                                                                                                                                                                                                                                                                                                                                                                                                                                                                                                                                                                                                                                                                                                                                                                                                                                                                                                                                                                                                                                                                                                                                                                                                                                                                                                                                                                                                                                                                                                                                                                                                                                                                                                                                                                                                                                                 contents  \\\n",
      "568                                                                                                                                                                                                                                                                                                                                                                                                                                                                                                                                                                                                                                                                                                                                                                                                                                                                                                                                                                                                                                                                                                                                                                                                                                                                                                                                                                                                                                                                                                                                                                                                                                                                                                                                                              The Justice Department today announced that its Civil Rights Division is partnering with the Federal Emergency Management Agency’s U.S. Fire Administration on this year’s Arson Awareness Week, May 7-13, with a focus on Preventing Arson at Houses of Worship. There were an average of 103 arsons of houses of worship per year from 2000 to 2015.  Half of all reported fires at houses of worship turn out to involve arson. The Department of Justice enforces a number of federal statutes protecting places of worship from attack, including 18 U.S.C. § 247, known as the Church Arson Prevention Act, which was passed in the 1990s in response to a sharp increase in church arsons.  That law makes it a federal crime to target religious property because of the religion or race of the congregation.  In February of this year, the Department indicted an Idaho man under § 247 alleging that he set fire to a Catholic Church in Bonner’s Ferry in April 2016.  In 2013, an Indiana man was sentenced to 20 years imprisonment for setting a fire at the Islamic Center of Greater Toledo. FEMA and the Department of Justice have produced a number of materials to help congregations, community organizations and local law enforcement and fire safety officials to increase arson awareness and hold events highlighting proactive steps that can be taken to try to reduce house of worship arson.  These materials are available at the Arson Awareness Week homepage, www.usfa.fema.gov/aaw.  “Arson against houses of worship is a serious crime that the Department of Justice is committed to prosecuting to the fullest extent of the law,” said Acting Assistant Attorney General Tom Wheeler of the Justice Department’s Civil Rights Division.  “But our role as prosecutors, while critically important, only comes after the fact when the damage is already done.  That is why we encourage communities and local officials to take proactive steps to increase public awareness of the problem and measures that can be taken to reduce the likelihood of being a victim of house of worship arson.” Further information about hate crimes, including arsons against on places of worship, is available at the Civil Rights Division hate crimes page, https://www.justice.gov/crt/hate-crimes-0.   \n",
      "513  WASHINGTON – Frankie Maybee, 20, and Sean Popejoy, 19, both of Green Forest, Ark., were sentenced for their roles in committing federal hate crimes, announced the Justice Department.  These are the first defendants to be sentenced under the Matthew Shepard and James Byrd Jr. Hate Crimes Prevention Act, which was enacted in October 2009. Maybee was sentenced today to 135 months in prison, followed by three years of supervised release and was ordered to pay a $10,000 fine. Popejoy, who testified against Maybee, was sentenced yesterday to 48 months in prison followed by three years of supervised release and was ordered to pay a $5,000 fine. Maybee and Popejoy were also sentenced to pay $5,440 in restitution to the victims, jointly and severally. Maybee was convicted on May 19, 2011, by a federal jury of five counts of committing a federal hate crime and one count of conspiring to commit a federal hate crime. Popejoy pleaded guilty on May 16, 2011, to one count of committing a federal hate crime and one count of conspiring to commit a federal hate crime. Evidence presented at trial established that in the early morning hours of June 20, 2010, Maybee and Popejoy targeted five Hispanic men who had pulled into a gas station parking lot. Though Maybee and Popejoy did not know the men and the five did not do or say anything to provoke them, Maybee and Popejoy yelled racial epithets at the men and told them to “go back to Mexico.” When the victims drove away, the co-conspirators pursued them in Maybee’s truck.  When Maybee and Popejoy caught up to the victims, Popejoy leaned outside of the front passenger window and waived a tire wrench at the victims, and continued to threaten and hurl racial epithets at the victims.  Maybee, driving his truck, rammed into the victims’ car repeatedly, causing the victims’ car to cross the opposite lane of traffic, go off the road, crash into a tree and ignite.  The victims were badly injured and one of the victims sustained life-threatening injuries. “The facts of this case shock the conscience. Five men were almost killed for no reason other than the fact that they are Hispanic. The Shepard-Byrd Hate Crimes Prevention Act allowed us to bring these men to justice in a way that we could not have done just a few years ago,” said Thomas E. Perez, Assistant Attorney General for the Civil Rights Division. “These sentences send a clear message that the Justice Department will aggressively prosecute those who perpetrate violent acts of hate.” “Acts of violence that occur simply because of how someone looks are horrific,” said Conner Eldridge, U.S. Attorney for the Western District of Arkansas. “The five victims in this case were targeted because they are Hispanic. That is reprehensible. We thank the jury – 12 individuals from communities across Northern Arkansas - for their careful consideration of the evidence and for holding the defendants accountable for their actions. We hope that acts like this never occur. However, if they do, we will vigorously prosecute them.” “Hate crimes have wide-ranging impact, as their perpetrators attack the victim and intimidate entire communities,” stated FBI Little Rock, Ark., Special Agent-in-Charge Valerie Parlave.   “The FBI will continue to collaborate with our state and local partners to investigate and provide important training to address violent hate crimes that are bias-motivated.  We will also work with our community partners, such as the Arkansas Civil Rights Working Group, to develop strategies to address and reduce civil rights abuses.” This case was investigated by the FBI’s Fayetteville, Ark., Division in cooperation with the Arkansas State Police Department and the Carroll County Sheriff’s Office.   The case was prosecuted by Trial Attorneys Edward Chung and Cindy Chung of the Department of Justice’s Civil Rights Division and Assistant U.S. Attorney Kyra E. Jenner for the Western District of Arkansas.   \n",
      "\n",
      "       neg  \n",
      "568  0.260  \n",
      "513  0.233  \n"
     ]
    }
   ],
   "source": [
    "## your code here\n",
    "doj_subset_wscore = doj_subset.join(pd.json_normalize(doj_subset['sentiment_scores']))\n",
    "\n",
    "# Sort the DataFrame by the negative score in descending order\n",
    "doj_subset_wscore_sorted = doj_subset_wscore.sort_values(by='neg', ascending=False)\n",
    "\n",
    "# Print the id, contents, and neg columns of the two most negative press releases\n",
    "print(doj_subset_wscore_sorted[['id', 'contents', 'neg']].head(2))"
   ]
  },
  {
   "cell_type": "markdown",
   "metadata": {},
   "source": [
    "D. With the dataframe from part C, find the mean compound sentiment score for each of the three topics in `topics_clean` using group_by and agg.\n",
    "\n",
    "E. Add a 1 sentence interpretation of why we might see the variation in scores (remember that compound is a standardized summary where -1 is most negative; +1 is most positive)\n"
   ]
  },
  {
   "cell_type": "code",
   "execution_count": 20,
   "metadata": {},
   "outputs": [
    {
     "name": "stdout",
     "output_type": "stream",
     "text": [
      "topics_clean\n",
      "Civil Rights             -0.374800\n",
      "Hate Crimes              -0.770914\n",
      "Project Safe Childhood   -0.260291\n",
      "Name: compound, dtype: float64\n"
     ]
    }
   ],
   "source": [
    "## agg and find the mean compound score by topic\n",
    "mean_compound_scores = doj_subset_wscore.groupby('topics_clean')['compound'].agg('mean')\n",
    "\n",
    "print(mean_compound_scores)\n",
    "\n"
   ]
  },
  {
   "cell_type": "code",
   "execution_count": 162,
   "metadata": {},
   "outputs": [
    {
     "name": "stdout",
     "output_type": "stream",
     "text": [
      "The variation of these results reflects that the DOJ writes more negatively\n",
      "    about hate crimes than the other two chosen topics, \n",
      "    which could be explained by the \n",
      "    inherent negativity of hate crimes\n"
     ]
    }
   ],
   "source": [
    "print(\"\"\"The variation of these results reflects that the DOJ writes more negatively\n",
    "    about hate crimes than the other two chosen topics, \n",
    "    which could be explained by the \n",
    "    inherent negativity of hate crimes\"\"\")\n"
   ]
  },
  {
   "cell_type": "markdown",
   "metadata": {},
   "source": [
    "# 2. Topic modeling (25 points)\n",
    "\n",
    "For this question, use the `doj_subset_wscores` data that is restricted to civil rights, hate crimes, and project safe childhood and with the sentiment scores added\n"
   ]
  },
  {
   "cell_type": "markdown",
   "metadata": {},
   "source": [
    "## 2.1 Preprocess the data by removing stopwords, punctuation, and non-alpha words (5 points)\n",
    "\n",
    "A. Write a function that:\n",
    "\n",
    "- Takes in a single raw string in the `contents` column from that dataframe\n",
    "- Does the following preprocessing steps:\n",
    "\n",
    "    - Converts the words to lowercase\n",
    "    - Removes stopwords, adding the custom stopwords in your code cell below to the default stopwords list\n",
    "    - Only retains alpha words (so removes digits and punctuation)\n",
    "    - Only retains words 4 characters or longer\n",
    "    - Uses the snowball stemmer from nltk to stem\n",
    "\n",
    "- Returns a joined preprocessed string\n",
    "    \n",
    "B. Use `apply` or list comprehension to execute that function and create a new column in the data called `processed_text`\n",
    "    \n",
    "C. Print the `id`, `contents`, and `processed_text` columns for the following press releases:\n",
    "\n",
    "id = 16-718 (this case: https://www.seattletimes.com/nation-world/doj-miami-police-reach-settlement-in-civil-rights-case/)\n",
    "\n",
    "id = 16-217 (this case: https://www.wlbt.com/story/32275512/three-mississippi-correctional-officers-indicted-for-inmate-assault-and-cover-up/)\n",
    "    \n",
    "**Resources**:\n",
    "\n",
    "- Here's code examples for the snowball stemmer: https://www.geeksforgeeks.org/snowball-stemmer-nlp/"
   ]
  },
  {
   "cell_type": "code",
   "execution_count": 21,
   "metadata": {},
   "outputs": [],
   "source": [
    "custom_doj_stopwords = [\"civil\", \"rights\", \"division\", \"department\", \"justice\",\n",
    "                        \"office\", \"attorney\", \"district\", \"case\", \"investigation\", \"assistant\",\n",
    "                       \"trial\", \"assistance\", \"assist\"]"
   ]
  },
  {
   "cell_type": "code",
   "execution_count": 22,
   "metadata": {},
   "outputs": [],
   "source": [
    "## your code defining a text processing function\n",
    "# A. Write a function that:\n",
    "\n",
    "# Takes in a single raw string in the contents column from that dataframe\n",
    "\n",
    "# Does the following preprocessing steps:\n",
    "\n",
    "# Converts the words to lowercase\n",
    "# Removes stopwords, adding the custom stopwords in your code cell below to the default stopwords list\n",
    "# Only retains alpha words (so removes digits and punctuation)\n",
    "# Only retains words 4 characters or longer\n",
    "# Uses the snowball stemmer from nltk to stem\n",
    "# Returns a joined preprocessed string\n",
    "\n",
    "def preprocess(text):\n",
    "    text = text.lower()\n",
    "    \n",
    "    custom_doj_stopwords = [\"civil\", \"rights\", \"division\", \"department\", \"justice\",\n",
    "                        \"office\", \"attorney\", \"district\", \"case\", \"investigation\", \"assistant\",\n",
    "                       \"trial\", \"assistance\", \"assist\"]\n",
    "    stop_words = set(stopwords.words('english') + custom_doj_stopwords)\n",
    "    \n",
    "\n",
    "    tokens = nltk.word_tokenize(text)\n",
    "\n",
    "    tokens = [word for word in tokens if word.isalpha() and word not in stop_words and len(word) >= 4]\n",
    "    \n",
    "\n",
    "    stemmer = SnowballStemmer('english')\n",
    "    \n",
    "    stemmed = [stemmer.stem(word) for word in tokens]\n",
    "    \n",
    "    return ' '.join(stemmed)\n",
    "    "
   ]
  },
  {
   "cell_type": "code",
   "execution_count": 23,
   "metadata": {},
   "outputs": [],
   "source": [
    "## your code executing the function\n",
    "doj_subset_wscore[\"processed_text\"] = doj_subset_wscore[\"contents\"].apply(preprocess) \n",
    "    "
   ]
  },
  {
   "cell_type": "code",
   "execution_count": 24,
   "metadata": {},
   "outputs": [
    {
     "name": "stdout",
     "output_type": "stream",
     "text": [
      "           id  \\\n",
      "6727   16-217   \n",
      "11593  16-718   \n",
      "\n",
      "                                                                                                                                                                                                                                                                                                                                                                                                                                                                                                                                                                                                                                                                                                                                                                                                                                                                                                                                                                                                                                                                                                                                                                                                                                                                                                                                                                                                                                                                                                                                                                                                                                                                                                                                                                                                                                                                                                                                                                                                                                                                                                                                                                                                                                                                                                                                                                                                                                                                                                                                                                                                                                                                                                                                                                                                                                                                                                                         contents  \\\n",
      "6727   The Justice Department has reached a comprehensive settlement agreement with the city of Miami and the Miami Police Department (MPD) resolving the Justice Department’s investigation of officer-involved shootings by MPD officers, announced Principal Deputy Assistant Attorney General Vanita Gupta, head of the Justice Department’s Civil Rights Division and U.S. Attorney Wifredo A. Ferrer of the Southern District of Florida. The settlement, which was approved by Miami’s city commission today and will go into effect when the agreement is signed by all parties, resolves claims stemming from the Justice Department’s investigation into officer-involved shootings by MPD officers, which was conducted under the Violent Crime Control and Law Enforcement Act of 1994.  The investigation’s findings, issued in July 2013, identified a pattern or practice of excessive use of force through officer-involved shootings in violation of the Fourth Amendment of the Constitution.  The city’s compliance with the settlement will be monitored by an independent reviewer, former Tampa, Florida, Police Chief Jane Castor.  Under the settlement agreement, the city will implement comprehensive reforms to ensure constitutional policing and support public trust.  The settlement agreement is designed to minimize officer-involved shootings and to more effectively and quickly investigate officer-involved shootings that do occur, through measures that include: “This settlement represents a renewed commitment by the city of Miami and Chief Rodolfo Llanes to provide constitutional policing for Miami residents and to protect public safety through sustainable reform,” said Principal Deputy Assistant Attorney General Gupta.  “The agreement will help to strengthen the relationship between the MPD and the communities they serve by improving accountability for officers who fire their weapons unlawfully, and provides for community participation in the enforcement of this agreement.”  “Today's agreement is the result of a joint effort between the Department of Justice and the City of Miami to ensure that the Miami Police Department continues its efforts to make our community safe while protecting the sacred Constitutional rights of all of our citizens,” said U.S. Attorney Ferrer.  “Through oversight and communication, the agreement seeks to make permanent the positive changes that former Chief Orosa and Chief Llanes have made, and we applaud the City Commission’s vote.” The settlement agreement builds upon important reforms implemented by the city since the Justice Department issued its findings, including:  The investigation was conducted by attorneys and staff from the Civil Rights Division’s Special Litigation Section and the Civil Division of the U. S. Attorney’s Office of the Southern District of Florida.   \n",
      "11593                                                                                                                                                                                                                                                                                                                                                                                                                                                                                                                                                                                                                                                                                                                                                                                                                                                                                                                                                                                                                                                                                                                            In a nine-count indictment unsealed today, two Mississippi correctional officers were charged with beating an inmate and a third was charged with helping to cover it up.  The indictment charged Lawardrick Marsher, 28, and Robert Sturdivant, 47, officers at Mississippi State Penitentiary, in Parchman, Mississippi, with a beating that included kicking, punching and throwing the victim to the ground.  Marsher and Sturdivant were charged with violating the right of K.H., a convicted prisoner, to be free from cruel and unusual punishment.  Sturdivant was also charged with failing to intervene while Marsher was punching and beating K.H.  The indictment alleges that their actions involved the use of a dangerous weapon and resulted in bodily injury to the victim. A third officer, Deonte Pate, 23, was charged along with Marsher and Sturdivant for conspiring to cover up the beating.  The indictment alleges that all three officers submitted false reports and that all three lied to the FBI. If convicted, Marsher and Sturdivant face a maximum sentence of 10 years in prison on the excessive force charges.  Each of the three officers faces up to five years in prison on the conspiracy and false statement charges, and up to 20 years in prison on the false report charges. An indictment is merely an accusation, and the defendants are presumed innocent unless and until proven guilty. This case is being investigated by the FBI’s Jackson Division, with the cooperation of the Mississippi Department of Corrections.  It is being prosecuted by Assistant U.S. Attorney Robert Coleman of the Northern District of Mississippi and Trial Attorney Dana Mulhauser of the Civil Rights Division’s Criminal Section.     Marsher Indictment   \n",
      "\n",
      "                                                                                                                                                                                                                                                                                                                                                                                                                                                                                                                                                                                                                                                                                                                                                                                                                                                                                                                                                                                                                                                                                                                                                                                                                                                                                                                                                                                                            processed_text  \n",
      "6727   reach comprehens settlement agreement citi miami miami polic resolv shoot offic announc princip deputi general vanita gupta head wifredo ferrer southern florida settlement approv miami citi commiss today effect agreement sign parti resolv claim stem shoot offic conduct violent crime control enforc find issu juli identifi pattern practic excess forc shoot violat fourth amend constitut citi complianc settlement monitor independ review former tampa florida polic chief jane castor settlement agreement citi implement comprehens reform ensur constitut polic support public trust settlement agreement design minim shoot effect quick investig shoot occur measur includ settlement repres renew commit citi miami chief rodolfo llane provid constitut polic miami resid protect public safeti sustain reform said princip deputi general gupta agreement help strengthen relationship communiti serv improv account offic fire weapon unlaw provid communiti particip enforc today agreement result joint effort citi miami ensur miami polic continu effort make communiti safe protect sacr constitut citizen said ferrer oversight communic agreement seek make perman posit chang former chief orosa chief llane made applaud citi commiss settlement agreement build upon import reform implement citi sinc issu find includ conduct attorney staff special litig section southern florida  \n",
      "11593                                                                                                                                                                                                                                                                                                                                                                                                                                                                   indict unseal today mississippi correct offic charg beat inmat third charg help cover indict charg lawardrick marsher robert sturdiv offic mississippi state penitentiari parchman mississippi beat includ kick punch throw victim ground marsher sturdiv charg violat right convict prison free cruel unusu punish sturdiv also charg fail interven marsher punch beat indict alleg action involv danger weapon result bodili injuri victim third offic deont pate charg along marsher sturdiv conspir cover beat indict alleg three offic submit fals report three lie convict marsher sturdiv face maximum sentenc year prison excess forc charg three offic face five year prison conspiraci fals statement charg year prison fals report charg indict mere accus defend presum innoc unless proven guilti investig jackson cooper mississippi correct prosecut robert coleman northern mississippi dana mulhaus crimin section marsher indict  \n"
     ]
    }
   ],
   "source": [
    "## your code showing the examples\n",
    "\n",
    "specific_ids = ['16-718', '16-217']\n",
    "filtered_data = doj_subset_wscore[doj_subset_wscore['id'].isin(specific_ids)]\n",
    "\n",
    "print(filtered_data[['id', 'contents', 'processed_text']])"
   ]
  },
  {
   "cell_type": "markdown",
   "metadata": {},
   "source": [
    "## 2.2 Create a document-term matrix from the preprocessed press releases and to explore top words (5 points)\n",
    "\n",
    "A. Use the `create_dtm` function I provide (alternately, feel free to write your own!) and create a document-term matrix using the preprocessed press releases; make sure metadata contains the following columns: `id`, `compound` sentiment column you added, and the `topics_clean` column\n",
    "\n",
    "B. Print the top 10 words for press releases with compound sentiment in the top 5% (so the most positive sentiment)\n",
    "\n",
    "C. Print the top 10 words for press releases with compound sentiment in the bottom 5% (so the most negative sentiment)\n",
    "\n",
    "**Hint**: for these, remember the pandas quantile function from pset one.  \n",
    "\n",
    "D. Print the top 10 words for press releases in each of the three `topics_clean`\n",
    "\n",
    "For steps B - D, to receive full credit, write a function `get_topwords` that helps you avoid duplicated code when you find top words for the different subsets of the data. There are different ways to structure it but one way is to feed it subsetted data (so data subsetted to one topic etc.) and for it to get the top words for that subset.\n"
   ]
  },
  {
   "cell_type": "code",
   "execution_count": 25,
   "metadata": {},
   "outputs": [],
   "source": [
    "def create_dtm(list_of_strings, metadata):\n",
    "    vectorizer = CountVectorizer(lowercase = True)\n",
    "    dtm_sparse = vectorizer.fit_transform(list_of_strings)\n",
    "    dtm_dense_named = pd.DataFrame(dtm_sparse.todense(), \n",
    "        columns=vectorizer.get_feature_names_out())\n",
    "    dtm_dense_named_withid = pd.concat([metadata.reset_index(), dtm_dense_named], axis = 1)\n",
    "    return(dtm_dense_named_withid)"
   ]
  },
  {
   "cell_type": "code",
   "execution_count": 26,
   "metadata": {},
   "outputs": [
    {
     "name": "stdout",
     "output_type": "stream",
     "text": [
      "   index       id  compound            topics_clean  aaron  abandon  abbat  \\\n",
      "0     77  17-1235    0.8360            Civil Rights      0        0      0   \n",
      "1    155  15-1522   -0.9444  Project Safe Childhood      0        0      0   \n",
      "2    157   16-213   -0.9898  Project Safe Childhood      0        0      0   \n",
      "3    162   16-381   -0.9905  Project Safe Childhood      0        0      0   \n",
      "4    168   14-464   -0.8020             Hate Crimes      0        0      0   \n",
      "\n",
      "   abbi  abbott  abdomen  ...  zamora  zane  zealand  zealous  zeeman  zero  \\\n",
      "0     0       0        0  ...       0     0        0        0       0     0   \n",
      "1     0       0        0  ...       0     0        0        0       0     0   \n",
      "2     0       0        0  ...       0     0        0        0       0     0   \n",
      "3     0       0        0  ...       0     0        0        0       0     0   \n",
      "4     0       0        0  ...       0     0        0        0       0     0   \n",
      "\n",
      "   zobel  zone  zunggeemog  zwengel  \n",
      "0      0     0           0        0  \n",
      "1      0     0           0        0  \n",
      "2      0     0           0        0  \n",
      "3      0     0           0        0  \n",
      "4      0     0           0        0  \n",
      "\n",
      "[5 rows x 6760 columns]\n",
      "Top 10 words for press releases with top 5% compound sentiment:\n",
      "child       22\n",
      "exploit     18\n",
      "award       17\n",
      "general     16\n",
      "present     14\n",
      "prosecut    13\n",
      "holder      13\n",
      "children    12\n",
      "enforc      11\n",
      "victim      11\n",
      "dtype: int64\n",
      "\n",
      "Top 10 words for press releases with bottom 5% compound sentiment:\n",
      "defend      9\n",
      "victim      7\n",
      "charg       6\n",
      "branscum    5\n",
      "sentenc     5\n",
      "prison      4\n",
      "indict      4\n",
      "maybe       3\n",
      "month       3\n",
      "resid       3\n",
      "dtype: int64\n",
      "\n",
      "Top 10 words for press releases in topic 'Civil Rights':\n",
      "offic        627\n",
      "hous         620\n",
      "discrimin    541\n",
      "enforc       531\n",
      "disabl       509\n",
      "said         497\n",
      "feder        475\n",
      "violat       470\n",
      "state        443\n",
      "general      408\n",
      "dtype: int64\n",
      "\n",
      "Top 10 words for press releases in topic 'Project Safe Childhood':\n",
      "child          1018\n",
      "exploit         698\n",
      "sexual          570\n",
      "safe            476\n",
      "project         472\n",
      "childhood       472\n",
      "pornographi     447\n",
      "children        416\n",
      "crimin          404\n",
      "prosecut        374\n",
      "dtype: int64\n",
      "\n",
      "Top 10 words for press releases in topic 'Hate Crimes':\n",
      "victim      590\n",
      "crime       533\n",
      "prosecut    476\n",
      "hate        472\n",
      "defend      459\n",
      "sentenc     455\n",
      "charg       452\n",
      "guilti      430\n",
      "feder       426\n",
      "said        424\n",
      "dtype: int64\n"
     ]
    }
   ],
   "source": [
    "# your code here\n",
    "matrix = create_dtm(list_of_strings = doj_subset_wscore[\"processed_text\"], \n",
    "                    metadata = doj_subset_wscore[[\"id\", \"compound\", \"topics_clean\"]])\n",
    "print(matrix.head())\n",
    "\n",
    "\n",
    "import re\n",
    "from collections import Counter\n",
    "\n",
    "def get_top_words(data, column, n=10):\n",
    "\n",
    "    word_counts = Counter()\n",
    "    for text in data[column]:\n",
    "        words = re.findall(r'\\b\\w+\\b', text.lower())  # Tokenize text\n",
    "        word_counts.update(words)\n",
    " \n",
    "    tf = pd.Series(word_counts).sort_values(ascending=False)\n",
    "    \n",
    "    return tf.head(n)\n",
    "\n",
    "\n",
    "top_5_percent = doj_subset_wscore['compound'].quantile(0.95)\n",
    "top_5_percent_data = doj_subset_wscore[doj_subset_wscore['compound'] >= top_5_percent]\n",
    "print(\"Top 10 words for press releases with top 5% compound sentiment:\")\n",
    "print(get_top_words(top_5_percent_data, 'processed_text'))\n",
    "\n",
    "bottom_5_percent = doj_subset_wscore['compound'].quantile(0.05)\n",
    "bottom_5_percent_data = doj_subset_wscore[doj_subset_wscore['compound'] <= bottom_5_percent]\n",
    "print(\"\\nTop 10 words for press releases with bottom 5% compound sentiment:\")\n",
    "print(get_top_words(bottom_5_percent_data, 'processed_text'))\n",
    "\n",
    "for topic in doj_subset_wscore['topics_clean'].unique():\n",
    "    topic_data = doj_subset_wscore[doj_subset_wscore['topics_clean'] == topic]\n",
    "    print(f\"\\nTop 10 words for press releases in topic '{topic}':\")\n",
    "    print(get_top_words(topic_data, 'processed_text'))\n",
    "    "
   ]
  },
  {
   "cell_type": "markdown",
   "metadata": {},
   "source": [
    "## 2.3 Estimate a topic model using those preprocessed words (5 points)\n",
    "\n",
    "A. Going back to the preprocessed words from part 2.3.1, estimate a topic model with 3 topics, since you want to see if the unsupervised topic models recover different themes for each of the three manually-labeled areas (civil rights; hate crimes; project safe childhood). You have free rein over the other topic model parameters beyond the number of topics.\n",
    "\n",
    "B. After estimating the topic model, print the top 15 words in each topic.\n",
    "\n",
    "**Hints and Resources**:\n",
    "\n",
    "- Same topic modeling resources linked to above\n",
    "- Make sure to use the `random_state` argument within the model so that the numbering of topics does not move around between runs of your code"
   ]
  },
  {
   "cell_type": "code",
   "execution_count": null,
   "metadata": {},
   "outputs": [],
   "source": [
    "# your code here\n"
   ]
  },
  {
   "cell_type": "markdown",
   "metadata": {},
   "source": [
    "## 2.4 Add topics back to main data and explore correlation between manual labels and our estimated topics (10 points)\n",
    "\n",
    "A. Extract the document-level topic probabilities. Within `get_document_topics`, use the argument `minimum_probability` = 0 to make sure all 3 topic probabilities are returned. Write an assert statement to make sure the length of the list is equal to the number of rows in the `doj_subset_wscores` dataframe\n",
    "\n",
    "B. Add the topic probabilities to the `doj_subset_wscores` dataframe as columns and create a column, `top_topic`, that reflects each document to its highest-probability topic (eg topic 1, 2, or 3)\n",
    "\n",
    "C. For each of the manual labels in `topics_clean` (Hate Crime, Civil Rights, Project Safe Childhood), print the breakdown of the % of documents with each top topic (so, for instance, Hate Crime has 246 documents-- if 123 of those documents are coded to topic_1, that would be 50%; and so on). **Hint**: pd.crosstab and normalize may be helpful: https://pandas.pydata.org/pandas-docs/version/0.23/generated/pandas.crosstab.html\n",
    "\n",
    "D. Using a couple press releases as examples, write a 1-2 sentence interpretation of why some of the manual topics map on more cleanly to an estimated topic than other manual topic(s)\n"
   ]
  },
  {
   "cell_type": "code",
   "execution_count": null,
   "metadata": {},
   "outputs": [],
   "source": [
    "## your code here to get doc-level topic probabilities "
   ]
  },
  {
   "cell_type": "code",
   "execution_count": null,
   "metadata": {},
   "outputs": [],
   "source": [
    "## your code here to add those topic probabilities to the dataframe"
   ]
  },
  {
   "cell_type": "code",
   "execution_count": null,
   "metadata": {},
   "outputs": [],
   "source": [
    "## your code here to summarize the topic proportions for each of the topics_clean "
   ]
  },
  {
   "cell_type": "markdown",
   "metadata": {},
   "source": [
    "# 3. Extend the analysis from unigrams to bigrams (10 points)\n",
    "\n",
    "In the previous question, you found top words via a unigram representation of the text. Now, we want to see how those top words change with bigrams (pairs of words)\n",
    "\n",
    "A. Using the `doj_subset_wscore` data and the `processed_text` column (so the words after stemming/other preprocessing), create a column in the data called `processed_text_bigrams` that combines each consecutive pairs of word into a bigram separated by an underscore. Eg:\n",
    "\n",
    "\"depart reach settlem\" would become \"depart_reach reach_settlem\"\n",
    "\n",
    "Do this by writing a function `create_bigram_onedoc` that takes in a single `processed_text` string and returns a string with its bigrams structured similarly to above example\n",
    " \n",
    "**Hint**: there are many ways to solve but `zip` may be helpful: https://stackoverflow.com/questions/21303224/iterate-over-all-pairs-of-consecutive-items-in-a-list\n",
    "\n",
    "B. Print the `id`, `processed_text`, and `processed_text_bigram` columns for press release with id = 16-217"
   ]
  },
  {
   "cell_type": "code",
   "execution_count": 192,
   "metadata": {},
   "outputs": [
    {
     "name": "stdout",
     "output_type": "stream",
     "text": [
      "          id  \\\n",
      "6727  16-217   \n",
      "\n",
      "                                                                                                                                                                                                                                                                                                                                                                                                                                                                                                                                                                                                                                                                                                                                                                                                                                                                                                                                                                                                                                                                                                                                                                                                                                                                                                                                                                                                           processed_text  \\\n",
      "6727  reach comprehens settlement agreement citi miami miami polic resolv shoot offic announc princip deputi general vanita gupta head wifredo ferrer southern florida settlement approv miami citi commiss today effect agreement sign parti resolv claim stem shoot offic conduct violent crime control enforc find issu juli identifi pattern practic excess forc shoot violat fourth amend constitut citi complianc settlement monitor independ review former tampa florida polic chief jane castor settlement agreement citi implement comprehens reform ensur constitut polic support public trust settlement agreement design minim shoot effect quick investig shoot occur measur includ settlement repres renew commit citi miami chief rodolfo llane provid constitut polic miami resid protect public safeti sustain reform said princip deputi general gupta agreement help strengthen relationship communiti serv improv account offic fire weapon unlaw provid communiti particip enforc today agreement result joint effort citi miami ensur miami polic continu effort make communiti safe protect sacr constitut citizen said ferrer oversight communic agreement seek make perman posit chang former chief orosa chief llane made applaud citi commiss settlement agreement build upon import reform implement citi sinc issu find includ conduct attorney staff special litig section southern florida   \n",
      "\n",
      "                                                                                                                                                                                                                                                                                                                                                                                                                                                                                                                                                                                                                                                                                                                                                                                                                                                                                                                                                                                                                                                                                                                                                                                                                                                                                                                                                                                                                                                                                                                                                                                                                                                                                                                                                                                                                                                                                                                                                                                                                                                                                                                                                                                                                                                                                                                                                                                                                                                                                                                                                                                                                                                                                                                                                                                                         processed_text_bigrams  \n",
      "6727  reach_comprehens comprehens_settlement settlement_agreement agreement_citi citi_miami miami_miami miami_polic polic_resolv resolv_shoot shoot_offic offic_announc announc_princip princip_deputi deputi_general general_vanita vanita_gupta gupta_head head_wifredo wifredo_ferrer ferrer_southern southern_florida florida_settlement settlement_approv approv_miami miami_citi citi_commiss commiss_today today_effect effect_agreement agreement_sign sign_parti parti_resolv resolv_claim claim_stem stem_shoot shoot_offic offic_conduct conduct_violent violent_crime crime_control control_enforc enforc_find find_issu issu_juli juli_identifi identifi_pattern pattern_practic practic_excess excess_forc forc_shoot shoot_violat violat_fourth fourth_amend amend_constitut constitut_citi citi_complianc complianc_settlement settlement_monitor monitor_independ independ_review review_former former_tampa tampa_florida florida_polic polic_chief chief_jane jane_castor castor_settlement settlement_agreement agreement_citi citi_implement implement_comprehens comprehens_reform reform_ensur ensur_constitut constitut_polic polic_support support_public public_trust trust_settlement settlement_agreement agreement_design design_minim minim_shoot shoot_effect effect_quick quick_investig investig_shoot shoot_occur occur_measur measur_includ includ_settlement settlement_repres repres_renew renew_commit commit_citi citi_miami miami_chief chief_rodolfo rodolfo_llane llane_provid provid_constitut constitut_polic polic_miami miami_resid resid_protect protect_public public_safeti safeti_sustain sustain_reform reform_said said_princip princip_deputi deputi_general general_gupta gupta_agreement agreement_help help_strengthen strengthen_relationship relationship_communiti communiti_serv serv_improv improv_account account_offic offic_fire fire_weapon weapon_unlaw unlaw_provid provid_communiti communiti_particip particip_enforc enforc_today today_agreement agreement_result result_joint joint_effort effort_citi citi_miami miami_ensur ensur_miami miami_polic polic_continu continu_effort effort_make make_communiti communiti_safe safe_protect protect_sacr sacr_constitut constitut_citizen citizen_said said_ferrer ferrer_oversight oversight_communic communic_agreement agreement_seek seek_make make_perman perman_posit posit_chang chang_former former_chief chief_orosa orosa_chief chief_llane llane_made made_applaud applaud_citi citi_commiss commiss_settlement settlement_agreement agreement_build build_upon upon_import import_reform reform_implement implement_citi citi_sinc sinc_issu issu_find find_includ includ_conduct conduct_attorney attorney_staff staff_special special_litig litig_section section_southern southern_florida  \n"
     ]
    }
   ],
   "source": [
    "## your code here \n",
    "## your code here \n",
    "def create_bigram_onedoc(text):\n",
    "    # Split the text into words\n",
    "    words = text.split()\n",
    "    # Use zip to create pairs of consecutive words\n",
    "    bigrams = [f\"{w1}_{w2}\" for w1, w2 in zip(words[:-1], words[1:])]\n",
    "    # Join the bigrams into a single string separated by spaces\n",
    "    return ' '.join(bigrams)\n",
    "\n",
    "# Apply the function to the 'processed_text' column to create 'processed_text_bigrams'\n",
    "doj_subset_wscore['processed_text_bigrams'] = doj_subset_wscore['processed_text'].apply(create_bigram_onedoc)\n",
    "\n",
    "specific_press_release = doj_subset_wscore[doj_subset_wscore['id'] == '16-217']\n",
    "print(specific_press_release[['id', 'processed_text', 'processed_text_bigrams']])"
   ]
  },
  {
   "cell_type": "markdown",
   "metadata": {},
   "source": [
    "C. Use the create_dtm function and the `processed_text_bigrams` column to create a document-term matrix (`dtm_bigram`) with these bigrams. Keep the following three columns in the data: `id`, `topics_clean`, and `compound` \n",
    "\n",
    "D. Print the (1) dimensions of the `dtm` matrix from question 2.2  and (2) the dimensions of the `dtm_bigram` matrix. Comment on why the bigram matrix has more dimensions than the unigram matrix "
   ]
  },
  {
   "cell_type": "markdown",
   "metadata": {},
   "source": [
    "E. Find and print the 10 most prevelant bigrams for each of the three topics_clean using the `get_topwords` function from 2.2"
   ]
  },
  {
   "cell_type": "code",
   "execution_count": 194,
   "metadata": {},
   "outputs": [
    {
     "name": "stdout",
     "output_type": "stream",
     "text": [
      "   index       id            topics_clean  compound  aaron_ford ford_memphi  \\\n",
      "0     77  17-1235            Civil Rights    0.8360                       0   \n",
      "1    155  15-1522  Project Safe Childhood   -0.9444                       0   \n",
      "2    157   16-213  Project Safe Childhood   -0.9898                       0   \n",
      "3    162   16-381  Project Safe Childhood   -0.9905                       0   \n",
      "4    168   14-464             Hate Crimes   -0.8020                       0   \n",
      "\n",
      "   aaron_latham latham_munci  aaron_mcgrath mcgrath_websit  \\\n",
      "0                          0                             0   \n",
      "1                          0                             0   \n",
      "2                          0                             0   \n",
      "3                          0                             0   \n",
      "4                          0                             0   \n",
      "\n",
      "   aaron_parrish parrish_arrest  aaron_parrish parrish_constitut  \\\n",
      "0                             0                                0   \n",
      "1                             0                                0   \n",
      "2                             0                                0   \n",
      "3                             0                                0   \n",
      "4                             0                                0   \n",
      "\n",
      "   aaron_parrish parrish_crimin  ...  zone_restrict restrict_group  \\\n",
      "0                             0  ...                             0   \n",
      "1                             0  ...                             0   \n",
      "2                             0  ...                             0   \n",
      "3                             0  ...                             0   \n",
      "4                             0  ...                             0   \n",
      "\n",
      "   zone_restrict restrict_place  zone_student student_affect  \\\n",
      "0                             0                            0   \n",
      "1                             0                            0   \n",
      "2                             0                            0   \n",
      "3                             0                            0   \n",
      "4                             0                            0   \n",
      "\n",
      "   zone_time time_islam  zone_today today_announc  zone_varianc varianc_would  \\\n",
      "0                     0                         0                           0   \n",
      "1                     0                         0                           0   \n",
      "2                     0                         0                           0   \n",
      "3                     0                         0                           0   \n",
      "4                     0                         0                           0   \n",
      "\n",
      "   zunggeemog_noel noel_womack  zunggeemog_prompt prompt_forc  \\\n",
      "0                            0                              0   \n",
      "1                            0                              0   \n",
      "2                            0                              0   \n",
      "3                            0                              0   \n",
      "4                            0                              0   \n",
      "\n",
      "   zunggeemog_write write_report  zwengel_princeton princeton_illinoi  \n",
      "0                              0                                    0  \n",
      "1                              0                                    0  \n",
      "2                              0                                    0  \n",
      "3                              0                                    0  \n",
      "4                              0                                    0  \n",
      "\n",
      "[5 rows x 102939 columns]\n",
      "Dimensions of the unigram DTM: (717, 6760)\n",
      "Dimensions of the bigram DTM: (717, 102939)\n",
      "The bigram matrix has more dimensions than the unigram matrix primarily because bigrams capture more unique combinations of consecutive words, resulting in a higher number of columns because each column corresponds to a pair of words, and the combination of words into pairs produces a larger set of unique tokens than the set of unique single words.\n",
      "Top 10 bigrams for topic 'Civil Rights':\n",
      "fair_hous         227\n",
      "princip_deputi    221\n",
      "deputi_general    221\n",
      "vanita_gupta      202\n",
      "gupta_head        200\n",
      "general_vanita    199\n",
      "said_princip      186\n",
      "unit_state        152\n",
      "nation_origin     141\n",
      "consent_decre     127\n",
      "dtype: int64\n",
      "Top 10 bigrams for topic 'Project Safe Childhood':\n",
      "project_safe         472\n",
      "safe_childhood       472\n",
      "child_pornographi    445\n",
      "child_exploit        279\n",
      "sexual_exploit       223\n",
      "exploit_children     199\n",
      "plead_guilti         197\n",
      "exploit_obscen       175\n",
      "child_sexual         175\n",
      "obscen_section       174\n",
      "dtype: int64\n",
      "Top 10 bigrams for topic 'Hate Crimes':\n",
      "hate_crime       368\n",
      "plead_guilti     275\n",
      "year_prison      160\n",
      "special_agent    117\n",
      "thoma_perez      111\n",
      "grand_juri       101\n",
      "perez_general     95\n",
      "said_thoma        91\n",
      "unit_state        87\n",
      "act_general       85\n",
      "dtype: int64\n"
     ]
    }
   ],
   "source": [
    "# your code here\n",
    "def create_dtm_bigrams(list_of_strings, metadata):\n",
    "    vectorizer = CountVectorizer(lowercase=True, ngram_range=(2,2))\n",
    "    dtm_sparse = vectorizer.fit_transform(list_of_strings)\n",
    "    dtm_dense_named = pd.DataFrame(dtm_sparse.todense(), columns=vectorizer.get_feature_names_out())\n",
    "    dtm_dense_named_withid = pd.concat([metadata.reset_index(), dtm_dense_named], axis = 1)\n",
    "    \n",
    "    return dtm_dense_named_withid\n",
    "\n",
    "# Select metadata columns and bigram text from the DataFrame\n",
    "metadata_columns = doj_subset_wscore[['id', 'topics_clean', 'compound']]\n",
    "bigram_text = doj_subset_wscore['processed_text_bigrams']\n",
    "\n",
    "# Create the bigram document-term matrix\n",
    "dtm_bigram = create_dtm_bigrams(bigram_text, metadata_columns)\n",
    "\n",
    "# Check the output\n",
    "print(dtm_bigram.head())\n",
    "\n",
    "print(\"Dimensions of the unigram DTM:\", matrix.shape)\n",
    "print(\"Dimensions of the bigram DTM:\", dtm_bigram.shape)\n",
    "print(\"The bigram matrix has more dimensions than the unigram matrix primarily because bigrams capture more unique combinations of consecutive words, resulting in a higher number of columns because each column corresponds to a pair of words, and the combination of words into pairs produces a larger set of unique tokens than the set of unique single words.\")\n",
    "\n",
    "\n",
    "if 'processed_text_bigrams' in doj_subset_wscore.columns:\n",
    "    # Print top bigrams for each topic\n",
    "    topics = doj_subset_wscore['topics_clean'].unique()\n",
    "    for topic in topics:\n",
    "        topic_data = doj_subset_wscore[doj_subset_wscore['topics_clean'] == topic]\n",
    "        top_bigrams = get_top_words(topic_data, 'processed_text_bigrams', 10)\n",
    "        print(f\"Top 10 bigrams for topic '{topic}':\")\n",
    "        print(top_bigrams)\n",
    "else:\n",
    "    print(\"processed_text_bigrams column not found. Please create it first.\")"
   ]
  },
  {
   "cell_type": "markdown",
   "metadata": {},
   "source": [
    "# 4. Optional extra credit (2 points)\n",
    "\n",
    "You notice that the pharmaceutical kickbacks press release we analyzed in question 1 was for an indictment, and that in the original data, there's not a clear label for whether a press release outlines an indictment (charging someone with a crime), a conviction (convicting them after that charge either via a settlement or trial), or a sentencing (how many years of prison or supervised release a defendant is sentenced to after their conviction).\n",
    "\n",
    "You want to see if you can identify pairs of press releases where one press release is from one stage (e.g., indictment) and another is from a different stage (e.g., a sentencing).\n",
    "\n",
    "You decide that one way to approach is to find the pairwise string similarity between each of the processed press releases in `doj_subset`. There are many ways to do this, so Google for some approaches, focusing on ones that work well for entire documents rather than small strings.\n",
    "\n",
    "Find the top two pairs (so four press releases total)-- do they seem like different stages of the same crime or just press releases covering similar crimes?"
   ]
  },
  {
   "cell_type": "code",
   "execution_count": null,
   "metadata": {},
   "outputs": [],
   "source": [
    "# your code here "
   ]
  }
 ],
 "metadata": {
  "kernelspec": {
   "display_name": "Python 3 (ipykernel)",
   "language": "python",
   "name": "python3"
  },
  "language_info": {
   "codemirror_mode": {
    "name": "ipython",
    "version": 3
   },
   "file_extension": ".py",
   "mimetype": "text/x-python",
   "name": "python",
   "nbconvert_exporter": "python",
   "pygments_lexer": "ipython3",
   "version": "3.11.7"
  }
 },
 "nbformat": 4,
 "nbformat_minor": 4
}
